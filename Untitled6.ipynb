{
 "cells": [
  {
   "cell_type": "markdown",
   "id": "655101ee-c882-4fd5-aae4-6ee5aec98b45",
   "metadata": {},
   "source": [
    "# Phase 1 Project"
   ]
  },
  {
   "cell_type": "markdown",
   "id": "bf401697-e4db-4c92-9e93-8d7a92d4070e",
   "metadata": {},
   "source": [
    "This project focuses on delivering actionable insights for a company looking to grow its aviation division and make informed aircraft purchasing decisions. By examining aviation incident data from the \"AviationData.csv\" and \"USState_Codes.csv\" datasets, the goal is to uncover critical trends related to aircraft safety, performance, and regional risk factors. Through data cleaning and detailed analysis, the results will guide the company in identifying which aircraft models are the most reliable."
   ]
  },
  {
   "cell_type": "code",
   "execution_count": 510,
   "id": "dfabebe7-1d9c-4161-be24-1a9c6c7f38ee",
   "metadata": {},
   "outputs": [
    {
     "data": {
      "text/html": [
       "<div>\n",
       "<style scoped>\n",
       "    .dataframe tbody tr th:only-of-type {\n",
       "        vertical-align: middle;\n",
       "    }\n",
       "\n",
       "    .dataframe tbody tr th {\n",
       "        vertical-align: top;\n",
       "    }\n",
       "\n",
       "    .dataframe thead th {\n",
       "        text-align: right;\n",
       "    }\n",
       "</style>\n",
       "<table border=\"1\" class=\"dataframe\">\n",
       "  <thead>\n",
       "    <tr style=\"text-align: right;\">\n",
       "      <th></th>\n",
       "      <th>Event.Id</th>\n",
       "      <th>Investigation.Type</th>\n",
       "      <th>Accident.Number</th>\n",
       "      <th>Event.Date</th>\n",
       "      <th>Location</th>\n",
       "      <th>Country</th>\n",
       "      <th>Latitude</th>\n",
       "      <th>Longitude</th>\n",
       "      <th>Airport.Code</th>\n",
       "      <th>Airport.Name</th>\n",
       "      <th>...</th>\n",
       "      <th>Purpose.of.flight</th>\n",
       "      <th>Air.carrier</th>\n",
       "      <th>Total.Fatal.Injuries</th>\n",
       "      <th>Total.Serious.Injuries</th>\n",
       "      <th>Total.Minor.Injuries</th>\n",
       "      <th>Total.Uninjured</th>\n",
       "      <th>Weather.Condition</th>\n",
       "      <th>Broad.phase.of.flight</th>\n",
       "      <th>Report.Status</th>\n",
       "      <th>Publication.Date</th>\n",
       "    </tr>\n",
       "  </thead>\n",
       "  <tbody>\n",
       "    <tr>\n",
       "      <th>0</th>\n",
       "      <td>20001218X45444</td>\n",
       "      <td>Accident</td>\n",
       "      <td>SEA87LA080</td>\n",
       "      <td>10/24/1948</td>\n",
       "      <td>MOOSE CREEK, ID</td>\n",
       "      <td>United States</td>\n",
       "      <td>NaN</td>\n",
       "      <td>NaN</td>\n",
       "      <td>NaN</td>\n",
       "      <td>NaN</td>\n",
       "      <td>...</td>\n",
       "      <td>Personal</td>\n",
       "      <td>NaN</td>\n",
       "      <td>2.0</td>\n",
       "      <td>0.0</td>\n",
       "      <td>0.0</td>\n",
       "      <td>0.0</td>\n",
       "      <td>UNK</td>\n",
       "      <td>Cruise</td>\n",
       "      <td>Probable Cause</td>\n",
       "      <td>NaN</td>\n",
       "    </tr>\n",
       "    <tr>\n",
       "      <th>1</th>\n",
       "      <td>20001218X45447</td>\n",
       "      <td>Accident</td>\n",
       "      <td>LAX94LA336</td>\n",
       "      <td>7/19/1962</td>\n",
       "      <td>BRIDGEPORT, CA</td>\n",
       "      <td>United States</td>\n",
       "      <td>NaN</td>\n",
       "      <td>NaN</td>\n",
       "      <td>NaN</td>\n",
       "      <td>NaN</td>\n",
       "      <td>...</td>\n",
       "      <td>Personal</td>\n",
       "      <td>NaN</td>\n",
       "      <td>4.0</td>\n",
       "      <td>0.0</td>\n",
       "      <td>0.0</td>\n",
       "      <td>0.0</td>\n",
       "      <td>UNK</td>\n",
       "      <td>Unknown</td>\n",
       "      <td>Probable Cause</td>\n",
       "      <td>19-09-1996</td>\n",
       "    </tr>\n",
       "    <tr>\n",
       "      <th>2</th>\n",
       "      <td>20061025X01555</td>\n",
       "      <td>Accident</td>\n",
       "      <td>NYC07LA005</td>\n",
       "      <td>8/30/1974</td>\n",
       "      <td>Saltville, VA</td>\n",
       "      <td>United States</td>\n",
       "      <td>36.922223</td>\n",
       "      <td>-81.878056</td>\n",
       "      <td>NaN</td>\n",
       "      <td>NaN</td>\n",
       "      <td>...</td>\n",
       "      <td>Personal</td>\n",
       "      <td>NaN</td>\n",
       "      <td>3.0</td>\n",
       "      <td>NaN</td>\n",
       "      <td>NaN</td>\n",
       "      <td>NaN</td>\n",
       "      <td>IMC</td>\n",
       "      <td>Cruise</td>\n",
       "      <td>Probable Cause</td>\n",
       "      <td>26-02-2007</td>\n",
       "    </tr>\n",
       "    <tr>\n",
       "      <th>3</th>\n",
       "      <td>20001218X45448</td>\n",
       "      <td>Accident</td>\n",
       "      <td>LAX96LA321</td>\n",
       "      <td>6/19/1977</td>\n",
       "      <td>EUREKA, CA</td>\n",
       "      <td>United States</td>\n",
       "      <td>NaN</td>\n",
       "      <td>NaN</td>\n",
       "      <td>NaN</td>\n",
       "      <td>NaN</td>\n",
       "      <td>...</td>\n",
       "      <td>Personal</td>\n",
       "      <td>NaN</td>\n",
       "      <td>2.0</td>\n",
       "      <td>0.0</td>\n",
       "      <td>0.0</td>\n",
       "      <td>0.0</td>\n",
       "      <td>IMC</td>\n",
       "      <td>Cruise</td>\n",
       "      <td>Probable Cause</td>\n",
       "      <td>12/9/2000</td>\n",
       "    </tr>\n",
       "    <tr>\n",
       "      <th>4</th>\n",
       "      <td>20041105X01764</td>\n",
       "      <td>Accident</td>\n",
       "      <td>CHI79FA064</td>\n",
       "      <td>8/2/1979</td>\n",
       "      <td>Canton, OH</td>\n",
       "      <td>United States</td>\n",
       "      <td>NaN</td>\n",
       "      <td>NaN</td>\n",
       "      <td>NaN</td>\n",
       "      <td>NaN</td>\n",
       "      <td>...</td>\n",
       "      <td>Personal</td>\n",
       "      <td>NaN</td>\n",
       "      <td>1.0</td>\n",
       "      <td>2.0</td>\n",
       "      <td>NaN</td>\n",
       "      <td>0.0</td>\n",
       "      <td>VMC</td>\n",
       "      <td>Approach</td>\n",
       "      <td>Probable Cause</td>\n",
       "      <td>16-04-1980</td>\n",
       "    </tr>\n",
       "    <tr>\n",
       "      <th>...</th>\n",
       "      <td>...</td>\n",
       "      <td>...</td>\n",
       "      <td>...</td>\n",
       "      <td>...</td>\n",
       "      <td>...</td>\n",
       "      <td>...</td>\n",
       "      <td>...</td>\n",
       "      <td>...</td>\n",
       "      <td>...</td>\n",
       "      <td>...</td>\n",
       "      <td>...</td>\n",
       "      <td>...</td>\n",
       "      <td>...</td>\n",
       "      <td>...</td>\n",
       "      <td>...</td>\n",
       "      <td>...</td>\n",
       "      <td>...</td>\n",
       "      <td>...</td>\n",
       "      <td>...</td>\n",
       "      <td>...</td>\n",
       "      <td>...</td>\n",
       "    </tr>\n",
       "    <tr>\n",
       "      <th>88884</th>\n",
       "      <td>2.02212E+13</td>\n",
       "      <td>Accident</td>\n",
       "      <td>ERA23LA093</td>\n",
       "      <td>12/26/2022</td>\n",
       "      <td>Annapolis, MD</td>\n",
       "      <td>United States</td>\n",
       "      <td>NaN</td>\n",
       "      <td>NaN</td>\n",
       "      <td>NaN</td>\n",
       "      <td>NaN</td>\n",
       "      <td>...</td>\n",
       "      <td>Personal</td>\n",
       "      <td>NaN</td>\n",
       "      <td>0.0</td>\n",
       "      <td>1.0</td>\n",
       "      <td>0.0</td>\n",
       "      <td>0.0</td>\n",
       "      <td>NaN</td>\n",
       "      <td>NaN</td>\n",
       "      <td>NaN</td>\n",
       "      <td>29-12-2022</td>\n",
       "    </tr>\n",
       "    <tr>\n",
       "      <th>88885</th>\n",
       "      <td>2.02212E+13</td>\n",
       "      <td>Accident</td>\n",
       "      <td>ERA23LA095</td>\n",
       "      <td>12/26/2022</td>\n",
       "      <td>Hampton, NH</td>\n",
       "      <td>United States</td>\n",
       "      <td>NaN</td>\n",
       "      <td>NaN</td>\n",
       "      <td>NaN</td>\n",
       "      <td>NaN</td>\n",
       "      <td>...</td>\n",
       "      <td>NaN</td>\n",
       "      <td>NaN</td>\n",
       "      <td>0.0</td>\n",
       "      <td>0.0</td>\n",
       "      <td>0.0</td>\n",
       "      <td>0.0</td>\n",
       "      <td>NaN</td>\n",
       "      <td>NaN</td>\n",
       "      <td>NaN</td>\n",
       "      <td>NaN</td>\n",
       "    </tr>\n",
       "    <tr>\n",
       "      <th>88886</th>\n",
       "      <td>2.02212E+13</td>\n",
       "      <td>Accident</td>\n",
       "      <td>WPR23LA075</td>\n",
       "      <td>12/26/2022</td>\n",
       "      <td>Payson, AZ</td>\n",
       "      <td>United States</td>\n",
       "      <td>341525N</td>\n",
       "      <td>1112021W</td>\n",
       "      <td>PAN</td>\n",
       "      <td>PAYSON</td>\n",
       "      <td>...</td>\n",
       "      <td>Personal</td>\n",
       "      <td>NaN</td>\n",
       "      <td>0.0</td>\n",
       "      <td>0.0</td>\n",
       "      <td>0.0</td>\n",
       "      <td>1.0</td>\n",
       "      <td>VMC</td>\n",
       "      <td>NaN</td>\n",
       "      <td>NaN</td>\n",
       "      <td>27-12-2022</td>\n",
       "    </tr>\n",
       "    <tr>\n",
       "      <th>88887</th>\n",
       "      <td>2.02212E+13</td>\n",
       "      <td>Accident</td>\n",
       "      <td>WPR23LA076</td>\n",
       "      <td>12/26/2022</td>\n",
       "      <td>Morgan, UT</td>\n",
       "      <td>United States</td>\n",
       "      <td>NaN</td>\n",
       "      <td>NaN</td>\n",
       "      <td>NaN</td>\n",
       "      <td>NaN</td>\n",
       "      <td>...</td>\n",
       "      <td>Personal</td>\n",
       "      <td>MC CESSNA 210N LLC</td>\n",
       "      <td>0.0</td>\n",
       "      <td>0.0</td>\n",
       "      <td>0.0</td>\n",
       "      <td>0.0</td>\n",
       "      <td>NaN</td>\n",
       "      <td>NaN</td>\n",
       "      <td>NaN</td>\n",
       "      <td>NaN</td>\n",
       "    </tr>\n",
       "    <tr>\n",
       "      <th>88888</th>\n",
       "      <td>2.02212E+13</td>\n",
       "      <td>Accident</td>\n",
       "      <td>ERA23LA097</td>\n",
       "      <td>12/29/2022</td>\n",
       "      <td>Athens, GA</td>\n",
       "      <td>United States</td>\n",
       "      <td>NaN</td>\n",
       "      <td>NaN</td>\n",
       "      <td>NaN</td>\n",
       "      <td>NaN</td>\n",
       "      <td>...</td>\n",
       "      <td>Personal</td>\n",
       "      <td>NaN</td>\n",
       "      <td>0.0</td>\n",
       "      <td>1.0</td>\n",
       "      <td>0.0</td>\n",
       "      <td>1.0</td>\n",
       "      <td>NaN</td>\n",
       "      <td>NaN</td>\n",
       "      <td>NaN</td>\n",
       "      <td>30-12-2022</td>\n",
       "    </tr>\n",
       "  </tbody>\n",
       "</table>\n",
       "<p>88889 rows × 31 columns</p>\n",
       "</div>"
      ],
      "text/plain": [
       "             Event.Id Investigation.Type Accident.Number  Event.Date  \\\n",
       "0      20001218X45444           Accident      SEA87LA080  10/24/1948   \n",
       "1      20001218X45447           Accident      LAX94LA336   7/19/1962   \n",
       "2      20061025X01555           Accident      NYC07LA005   8/30/1974   \n",
       "3      20001218X45448           Accident      LAX96LA321   6/19/1977   \n",
       "4      20041105X01764           Accident      CHI79FA064    8/2/1979   \n",
       "...               ...                ...             ...         ...   \n",
       "88884     2.02212E+13           Accident      ERA23LA093  12/26/2022   \n",
       "88885     2.02212E+13           Accident      ERA23LA095  12/26/2022   \n",
       "88886     2.02212E+13           Accident      WPR23LA075  12/26/2022   \n",
       "88887     2.02212E+13           Accident      WPR23LA076  12/26/2022   \n",
       "88888     2.02212E+13           Accident      ERA23LA097  12/29/2022   \n",
       "\n",
       "              Location        Country   Latitude   Longitude Airport.Code  \\\n",
       "0      MOOSE CREEK, ID  United States        NaN         NaN          NaN   \n",
       "1       BRIDGEPORT, CA  United States        NaN         NaN          NaN   \n",
       "2        Saltville, VA  United States  36.922223  -81.878056          NaN   \n",
       "3           EUREKA, CA  United States        NaN         NaN          NaN   \n",
       "4           Canton, OH  United States        NaN         NaN          NaN   \n",
       "...                ...            ...        ...         ...          ...   \n",
       "88884    Annapolis, MD  United States        NaN         NaN          NaN   \n",
       "88885      Hampton, NH  United States        NaN         NaN          NaN   \n",
       "88886       Payson, AZ  United States    341525N    1112021W          PAN   \n",
       "88887       Morgan, UT  United States        NaN         NaN          NaN   \n",
       "88888       Athens, GA  United States        NaN         NaN          NaN   \n",
       "\n",
       "      Airport.Name  ... Purpose.of.flight         Air.carrier  \\\n",
       "0              NaN  ...          Personal                 NaN   \n",
       "1              NaN  ...          Personal                 NaN   \n",
       "2              NaN  ...          Personal                 NaN   \n",
       "3              NaN  ...          Personal                 NaN   \n",
       "4              NaN  ...          Personal                 NaN   \n",
       "...            ...  ...               ...                 ...   \n",
       "88884          NaN  ...          Personal                 NaN   \n",
       "88885          NaN  ...               NaN                 NaN   \n",
       "88886       PAYSON  ...          Personal                 NaN   \n",
       "88887          NaN  ...          Personal  MC CESSNA 210N LLC   \n",
       "88888          NaN  ...          Personal                 NaN   \n",
       "\n",
       "      Total.Fatal.Injuries Total.Serious.Injuries Total.Minor.Injuries  \\\n",
       "0                      2.0                    0.0                  0.0   \n",
       "1                      4.0                    0.0                  0.0   \n",
       "2                      3.0                    NaN                  NaN   \n",
       "3                      2.0                    0.0                  0.0   \n",
       "4                      1.0                    2.0                  NaN   \n",
       "...                    ...                    ...                  ...   \n",
       "88884                  0.0                    1.0                  0.0   \n",
       "88885                  0.0                    0.0                  0.0   \n",
       "88886                  0.0                    0.0                  0.0   \n",
       "88887                  0.0                    0.0                  0.0   \n",
       "88888                  0.0                    1.0                  0.0   \n",
       "\n",
       "      Total.Uninjured Weather.Condition  Broad.phase.of.flight  \\\n",
       "0                 0.0               UNK                 Cruise   \n",
       "1                 0.0               UNK                Unknown   \n",
       "2                 NaN               IMC                 Cruise   \n",
       "3                 0.0               IMC                 Cruise   \n",
       "4                 0.0               VMC               Approach   \n",
       "...               ...               ...                    ...   \n",
       "88884             0.0               NaN                    NaN   \n",
       "88885             0.0               NaN                    NaN   \n",
       "88886             1.0               VMC                    NaN   \n",
       "88887             0.0               NaN                    NaN   \n",
       "88888             1.0               NaN                    NaN   \n",
       "\n",
       "        Report.Status Publication.Date  \n",
       "0      Probable Cause              NaN  \n",
       "1      Probable Cause       19-09-1996  \n",
       "2      Probable Cause       26-02-2007  \n",
       "3      Probable Cause        12/9/2000  \n",
       "4      Probable Cause       16-04-1980  \n",
       "...               ...              ...  \n",
       "88884             NaN       29-12-2022  \n",
       "88885             NaN              NaN  \n",
       "88886             NaN       27-12-2022  \n",
       "88887             NaN              NaN  \n",
       "88888             NaN       30-12-2022  \n",
       "\n",
       "[88889 rows x 31 columns]"
      ]
     },
     "execution_count": 510,
     "metadata": {},
     "output_type": "execute_result"
    }
   ],
   "source": [
    "'''Importing data'''\n",
    "#data manipulation and analysis\n",
    "import pandas as pd\n",
    "import numpy as np\n",
    "\n",
    "#data visualization\n",
    "import matplotlib.pyplot as plt\n",
    "import seaborn as sns\n",
    "\n",
    "#interactive dashboard\n",
    "import plotly.express as px\n",
    "import plotly.graph_objects as go\n",
    "\n",
    "\n",
    "#load the dataset\n",
    "df = pd.read_csv('AviationData.csv',encoding = \"Latin\",low_memory=False)\n",
    "df\n"
   ]
  },
  {
   "cell_type": "code",
   "execution_count": 512,
   "id": "6d1d5149-01f0-4b99-a357-519e4075fdfd",
   "metadata": {},
   "outputs": [
    {
     "data": {
      "text/plain": [
       "565032"
      ]
     },
     "execution_count": 512,
     "metadata": {},
     "output_type": "execute_result"
    }
   ],
   "source": [
    "#checking for the missing values\n",
    "df.isnull().values.sum()\n"
   ]
  },
  {
   "cell_type": "code",
   "execution_count": 514,
   "id": "ba4533eb-5cd0-4a67-ab1d-5a49c4d7c120",
   "metadata": {},
   "outputs": [
    {
     "data": {
      "text/plain": [
       "Event.Id                      0\n",
       "Investigation.Type            0\n",
       "Accident.Number               0\n",
       "Event.Date                    0\n",
       "Location                     52\n",
       "Country                     226\n",
       "Latitude                  54507\n",
       "Longitude                 54516\n",
       "Airport.Code              38757\n",
       "Airport.Name              36185\n",
       "Injury.Severity            1000\n",
       "Aircraft.damage            3194\n",
       "Aircraft.Category         56602\n",
       "Registration.Number        1382\n",
       "Make                         63\n",
       "Model                        92\n",
       "Amateur.Built               102\n",
       "Number.of.Engines          6084\n",
       "Engine.Type                7096\n",
       "FAR.Description           56866\n",
       "Schedule                  76307\n",
       "Purpose.of.flight          6192\n",
       "Air.carrier               72241\n",
       "Total.Fatal.Injuries      11401\n",
       "Total.Serious.Injuries    12510\n",
       "Total.Minor.Injuries      11933\n",
       "Total.Uninjured            5912\n",
       "Weather.Condition          4492\n",
       "Broad.phase.of.flight     27165\n",
       "Report.Status              6384\n",
       "Publication.Date          13771\n",
       "dtype: int64"
      ]
     },
     "execution_count": 514,
     "metadata": {},
     "output_type": "execute_result"
    }
   ],
   "source": [
    "df.isnull().sum()"
   ]
  },
  {
   "cell_type": "code",
   "execution_count": 516,
   "id": "352a76ef-9393-4f1a-ab1a-15c23161ddf8",
   "metadata": {},
   "outputs": [
    {
     "data": {
      "text/html": [
       "<div>\n",
       "<style scoped>\n",
       "    .dataframe tbody tr th:only-of-type {\n",
       "        vertical-align: middle;\n",
       "    }\n",
       "\n",
       "    .dataframe tbody tr th {\n",
       "        vertical-align: top;\n",
       "    }\n",
       "\n",
       "    .dataframe thead th {\n",
       "        text-align: right;\n",
       "    }\n",
       "</style>\n",
       "<table border=\"1\" class=\"dataframe\">\n",
       "  <thead>\n",
       "    <tr style=\"text-align: right;\">\n",
       "      <th></th>\n",
       "      <th>Event.Id</th>\n",
       "      <th>Investigation.Type</th>\n",
       "      <th>Accident.Number</th>\n",
       "      <th>Event.Date</th>\n",
       "      <th>Country</th>\n",
       "      <th>Injury.Severity</th>\n",
       "      <th>Aircraft.damage</th>\n",
       "      <th>Aircraft.Category</th>\n",
       "      <th>Make</th>\n",
       "      <th>Model</th>\n",
       "      <th>Number.of.Engines</th>\n",
       "      <th>Engine.Type</th>\n",
       "      <th>Purpose.of.flight</th>\n",
       "      <th>Total.Fatal.Injuries</th>\n",
       "      <th>Total.Serious.Injuries</th>\n",
       "      <th>Total.Minor.Injuries</th>\n",
       "      <th>Total.Uninjured</th>\n",
       "      <th>Broad.phase.of.flight</th>\n",
       "    </tr>\n",
       "  </thead>\n",
       "  <tbody>\n",
       "    <tr>\n",
       "      <th>0</th>\n",
       "      <td>20001218X45444</td>\n",
       "      <td>Accident</td>\n",
       "      <td>SEA87LA080</td>\n",
       "      <td>10/24/1948</td>\n",
       "      <td>United States</td>\n",
       "      <td>Fatal(2)</td>\n",
       "      <td>Destroyed</td>\n",
       "      <td>NaN</td>\n",
       "      <td>Stinson</td>\n",
       "      <td>108-3</td>\n",
       "      <td>1.0</td>\n",
       "      <td>Reciprocating</td>\n",
       "      <td>Personal</td>\n",
       "      <td>2.0</td>\n",
       "      <td>0.0</td>\n",
       "      <td>0.0</td>\n",
       "      <td>0.0</td>\n",
       "      <td>Cruise</td>\n",
       "    </tr>\n",
       "    <tr>\n",
       "      <th>1</th>\n",
       "      <td>20001218X45447</td>\n",
       "      <td>Accident</td>\n",
       "      <td>LAX94LA336</td>\n",
       "      <td>7/19/1962</td>\n",
       "      <td>United States</td>\n",
       "      <td>Fatal(4)</td>\n",
       "      <td>Destroyed</td>\n",
       "      <td>NaN</td>\n",
       "      <td>Piper</td>\n",
       "      <td>PA24-180</td>\n",
       "      <td>1.0</td>\n",
       "      <td>Reciprocating</td>\n",
       "      <td>Personal</td>\n",
       "      <td>4.0</td>\n",
       "      <td>0.0</td>\n",
       "      <td>0.0</td>\n",
       "      <td>0.0</td>\n",
       "      <td>Unknown</td>\n",
       "    </tr>\n",
       "    <tr>\n",
       "      <th>2</th>\n",
       "      <td>20061025X01555</td>\n",
       "      <td>Accident</td>\n",
       "      <td>NYC07LA005</td>\n",
       "      <td>8/30/1974</td>\n",
       "      <td>United States</td>\n",
       "      <td>Fatal(3)</td>\n",
       "      <td>Destroyed</td>\n",
       "      <td>NaN</td>\n",
       "      <td>Cessna</td>\n",
       "      <td>172M</td>\n",
       "      <td>1.0</td>\n",
       "      <td>Reciprocating</td>\n",
       "      <td>Personal</td>\n",
       "      <td>3.0</td>\n",
       "      <td>NaN</td>\n",
       "      <td>NaN</td>\n",
       "      <td>NaN</td>\n",
       "      <td>Cruise</td>\n",
       "    </tr>\n",
       "    <tr>\n",
       "      <th>3</th>\n",
       "      <td>20001218X45448</td>\n",
       "      <td>Accident</td>\n",
       "      <td>LAX96LA321</td>\n",
       "      <td>6/19/1977</td>\n",
       "      <td>United States</td>\n",
       "      <td>Fatal(2)</td>\n",
       "      <td>Destroyed</td>\n",
       "      <td>NaN</td>\n",
       "      <td>Rockwell</td>\n",
       "      <td>112</td>\n",
       "      <td>1.0</td>\n",
       "      <td>Reciprocating</td>\n",
       "      <td>Personal</td>\n",
       "      <td>2.0</td>\n",
       "      <td>0.0</td>\n",
       "      <td>0.0</td>\n",
       "      <td>0.0</td>\n",
       "      <td>Cruise</td>\n",
       "    </tr>\n",
       "    <tr>\n",
       "      <th>4</th>\n",
       "      <td>20041105X01764</td>\n",
       "      <td>Accident</td>\n",
       "      <td>CHI79FA064</td>\n",
       "      <td>8/2/1979</td>\n",
       "      <td>United States</td>\n",
       "      <td>Fatal(1)</td>\n",
       "      <td>Destroyed</td>\n",
       "      <td>NaN</td>\n",
       "      <td>Cessna</td>\n",
       "      <td>501</td>\n",
       "      <td>NaN</td>\n",
       "      <td>NaN</td>\n",
       "      <td>Personal</td>\n",
       "      <td>1.0</td>\n",
       "      <td>2.0</td>\n",
       "      <td>NaN</td>\n",
       "      <td>0.0</td>\n",
       "      <td>Approach</td>\n",
       "    </tr>\n",
       "    <tr>\n",
       "      <th>...</th>\n",
       "      <td>...</td>\n",
       "      <td>...</td>\n",
       "      <td>...</td>\n",
       "      <td>...</td>\n",
       "      <td>...</td>\n",
       "      <td>...</td>\n",
       "      <td>...</td>\n",
       "      <td>...</td>\n",
       "      <td>...</td>\n",
       "      <td>...</td>\n",
       "      <td>...</td>\n",
       "      <td>...</td>\n",
       "      <td>...</td>\n",
       "      <td>...</td>\n",
       "      <td>...</td>\n",
       "      <td>...</td>\n",
       "      <td>...</td>\n",
       "      <td>...</td>\n",
       "    </tr>\n",
       "    <tr>\n",
       "      <th>88884</th>\n",
       "      <td>2.02212E+13</td>\n",
       "      <td>Accident</td>\n",
       "      <td>ERA23LA093</td>\n",
       "      <td>12/26/2022</td>\n",
       "      <td>United States</td>\n",
       "      <td>Minor</td>\n",
       "      <td>NaN</td>\n",
       "      <td>NaN</td>\n",
       "      <td>PIPER</td>\n",
       "      <td>PA-28-151</td>\n",
       "      <td>NaN</td>\n",
       "      <td>NaN</td>\n",
       "      <td>Personal</td>\n",
       "      <td>0.0</td>\n",
       "      <td>1.0</td>\n",
       "      <td>0.0</td>\n",
       "      <td>0.0</td>\n",
       "      <td>NaN</td>\n",
       "    </tr>\n",
       "    <tr>\n",
       "      <th>88885</th>\n",
       "      <td>2.02212E+13</td>\n",
       "      <td>Accident</td>\n",
       "      <td>ERA23LA095</td>\n",
       "      <td>12/26/2022</td>\n",
       "      <td>United States</td>\n",
       "      <td>NaN</td>\n",
       "      <td>NaN</td>\n",
       "      <td>NaN</td>\n",
       "      <td>BELLANCA</td>\n",
       "      <td>7ECA</td>\n",
       "      <td>NaN</td>\n",
       "      <td>NaN</td>\n",
       "      <td>NaN</td>\n",
       "      <td>0.0</td>\n",
       "      <td>0.0</td>\n",
       "      <td>0.0</td>\n",
       "      <td>0.0</td>\n",
       "      <td>NaN</td>\n",
       "    </tr>\n",
       "    <tr>\n",
       "      <th>88886</th>\n",
       "      <td>2.02212E+13</td>\n",
       "      <td>Accident</td>\n",
       "      <td>WPR23LA075</td>\n",
       "      <td>12/26/2022</td>\n",
       "      <td>United States</td>\n",
       "      <td>Non-Fatal</td>\n",
       "      <td>Substantial</td>\n",
       "      <td>Airplane</td>\n",
       "      <td>AMERICAN CHAMPION AIRCRAFT</td>\n",
       "      <td>8GCBC</td>\n",
       "      <td>1.0</td>\n",
       "      <td>NaN</td>\n",
       "      <td>Personal</td>\n",
       "      <td>0.0</td>\n",
       "      <td>0.0</td>\n",
       "      <td>0.0</td>\n",
       "      <td>1.0</td>\n",
       "      <td>NaN</td>\n",
       "    </tr>\n",
       "    <tr>\n",
       "      <th>88887</th>\n",
       "      <td>2.02212E+13</td>\n",
       "      <td>Accident</td>\n",
       "      <td>WPR23LA076</td>\n",
       "      <td>12/26/2022</td>\n",
       "      <td>United States</td>\n",
       "      <td>NaN</td>\n",
       "      <td>NaN</td>\n",
       "      <td>NaN</td>\n",
       "      <td>CESSNA</td>\n",
       "      <td>210N</td>\n",
       "      <td>NaN</td>\n",
       "      <td>NaN</td>\n",
       "      <td>Personal</td>\n",
       "      <td>0.0</td>\n",
       "      <td>0.0</td>\n",
       "      <td>0.0</td>\n",
       "      <td>0.0</td>\n",
       "      <td>NaN</td>\n",
       "    </tr>\n",
       "    <tr>\n",
       "      <th>88888</th>\n",
       "      <td>2.02212E+13</td>\n",
       "      <td>Accident</td>\n",
       "      <td>ERA23LA097</td>\n",
       "      <td>12/29/2022</td>\n",
       "      <td>United States</td>\n",
       "      <td>Minor</td>\n",
       "      <td>NaN</td>\n",
       "      <td>NaN</td>\n",
       "      <td>PIPER</td>\n",
       "      <td>PA-24-260</td>\n",
       "      <td>NaN</td>\n",
       "      <td>NaN</td>\n",
       "      <td>Personal</td>\n",
       "      <td>0.0</td>\n",
       "      <td>1.0</td>\n",
       "      <td>0.0</td>\n",
       "      <td>1.0</td>\n",
       "      <td>NaN</td>\n",
       "    </tr>\n",
       "  </tbody>\n",
       "</table>\n",
       "<p>88889 rows × 18 columns</p>\n",
       "</div>"
      ],
      "text/plain": [
       "             Event.Id Investigation.Type Accident.Number  Event.Date  \\\n",
       "0      20001218X45444           Accident      SEA87LA080  10/24/1948   \n",
       "1      20001218X45447           Accident      LAX94LA336   7/19/1962   \n",
       "2      20061025X01555           Accident      NYC07LA005   8/30/1974   \n",
       "3      20001218X45448           Accident      LAX96LA321   6/19/1977   \n",
       "4      20041105X01764           Accident      CHI79FA064    8/2/1979   \n",
       "...               ...                ...             ...         ...   \n",
       "88884     2.02212E+13           Accident      ERA23LA093  12/26/2022   \n",
       "88885     2.02212E+13           Accident      ERA23LA095  12/26/2022   \n",
       "88886     2.02212E+13           Accident      WPR23LA075  12/26/2022   \n",
       "88887     2.02212E+13           Accident      WPR23LA076  12/26/2022   \n",
       "88888     2.02212E+13           Accident      ERA23LA097  12/29/2022   \n",
       "\n",
       "             Country Injury.Severity Aircraft.damage Aircraft.Category  \\\n",
       "0      United States        Fatal(2)       Destroyed               NaN   \n",
       "1      United States        Fatal(4)       Destroyed               NaN   \n",
       "2      United States        Fatal(3)       Destroyed               NaN   \n",
       "3      United States        Fatal(2)       Destroyed               NaN   \n",
       "4      United States        Fatal(1)       Destroyed               NaN   \n",
       "...              ...             ...             ...               ...   \n",
       "88884  United States           Minor             NaN               NaN   \n",
       "88885  United States             NaN             NaN               NaN   \n",
       "88886  United States       Non-Fatal     Substantial          Airplane   \n",
       "88887  United States             NaN             NaN               NaN   \n",
       "88888  United States           Minor             NaN               NaN   \n",
       "\n",
       "                             Make      Model  Number.of.Engines  \\\n",
       "0                         Stinson      108-3                1.0   \n",
       "1                           Piper   PA24-180                1.0   \n",
       "2                          Cessna       172M                1.0   \n",
       "3                        Rockwell        112                1.0   \n",
       "4                          Cessna        501                NaN   \n",
       "...                           ...        ...                ...   \n",
       "88884                       PIPER  PA-28-151                NaN   \n",
       "88885                    BELLANCA       7ECA                NaN   \n",
       "88886  AMERICAN CHAMPION AIRCRAFT      8GCBC                1.0   \n",
       "88887                      CESSNA       210N                NaN   \n",
       "88888                       PIPER  PA-24-260                NaN   \n",
       "\n",
       "         Engine.Type Purpose.of.flight  Total.Fatal.Injuries  \\\n",
       "0      Reciprocating          Personal                   2.0   \n",
       "1      Reciprocating          Personal                   4.0   \n",
       "2      Reciprocating          Personal                   3.0   \n",
       "3      Reciprocating          Personal                   2.0   \n",
       "4                NaN          Personal                   1.0   \n",
       "...              ...               ...                   ...   \n",
       "88884            NaN          Personal                   0.0   \n",
       "88885            NaN               NaN                   0.0   \n",
       "88886            NaN          Personal                   0.0   \n",
       "88887            NaN          Personal                   0.0   \n",
       "88888            NaN          Personal                   0.0   \n",
       "\n",
       "       Total.Serious.Injuries  Total.Minor.Injuries  Total.Uninjured  \\\n",
       "0                         0.0                   0.0              0.0   \n",
       "1                         0.0                   0.0              0.0   \n",
       "2                         NaN                   NaN              NaN   \n",
       "3                         0.0                   0.0              0.0   \n",
       "4                         2.0                   NaN              0.0   \n",
       "...                       ...                   ...              ...   \n",
       "88884                     1.0                   0.0              0.0   \n",
       "88885                     0.0                   0.0              0.0   \n",
       "88886                     0.0                   0.0              1.0   \n",
       "88887                     0.0                   0.0              0.0   \n",
       "88888                     1.0                   0.0              1.0   \n",
       "\n",
       "      Broad.phase.of.flight  \n",
       "0                    Cruise  \n",
       "1                   Unknown  \n",
       "2                    Cruise  \n",
       "3                    Cruise  \n",
       "4                  Approach  \n",
       "...                     ...  \n",
       "88884                   NaN  \n",
       "88885                   NaN  \n",
       "88886                   NaN  \n",
       "88887                   NaN  \n",
       "88888                   NaN  \n",
       "\n",
       "[88889 rows x 18 columns]"
      ]
     },
     "execution_count": 516,
     "metadata": {},
     "output_type": "execute_result"
    }
   ],
   "source": [
    "\n",
    "#dropping columns with many missing values\n",
    "df.drop(columns = ['Location', 'Latitude', 'Longitude', 'Airport.Code', 'Airport.Name', 'Registration.Number', 'FAR.Description',\n",
    "                  'Schedule', 'Air.carrier', 'Report.Status', 'Weather.Condition', 'Amateur.Built', 'Publication.Date'], inplace = True)\n",
    "\n",
    "#check the cleaned data\n",
    "df.isnull().values.sum()\n",
    "df"
   ]
  },
  {
   "cell_type": "code",
   "execution_count": 518,
   "id": "fc1b8b7a-140b-4cdc-a2c1-3a718622e470",
   "metadata": {},
   "outputs": [
    {
     "data": {
      "text/plain": [
       "Event.Id                      0\n",
       "Investigation.Type            0\n",
       "Accident.Number               0\n",
       "Event.Date                    0\n",
       "Country                     226\n",
       "Injury.Severity            1000\n",
       "Aircraft.damage            3194\n",
       "Aircraft.Category         56602\n",
       "Make                         63\n",
       "Model                        92\n",
       "Number.of.Engines          6084\n",
       "Engine.Type                7096\n",
       "Purpose.of.flight          6192\n",
       "Total.Fatal.Injuries      11401\n",
       "Total.Serious.Injuries    12510\n",
       "Total.Minor.Injuries      11933\n",
       "Total.Uninjured            5912\n",
       "Broad.phase.of.flight     27165\n",
       "dtype: int64"
      ]
     },
     "execution_count": 518,
     "metadata": {},
     "output_type": "execute_result"
    }
   ],
   "source": [
    "#checking for the missing values\n",
    "df.isnull().sum()"
   ]
  },
  {
   "cell_type": "code",
   "execution_count": 522,
   "id": "6ce41d87-31b2-4d6a-86aa-44e25d319f23",
   "metadata": {},
   "outputs": [
    {
     "data": {
      "text/html": [
       "<div>\n",
       "<style scoped>\n",
       "    .dataframe tbody tr th:only-of-type {\n",
       "        vertical-align: middle;\n",
       "    }\n",
       "\n",
       "    .dataframe tbody tr th {\n",
       "        vertical-align: top;\n",
       "    }\n",
       "\n",
       "    .dataframe thead th {\n",
       "        text-align: right;\n",
       "    }\n",
       "</style>\n",
       "<table border=\"1\" class=\"dataframe\">\n",
       "  <thead>\n",
       "    <tr style=\"text-align: right;\">\n",
       "      <th></th>\n",
       "      <th>Event.Id</th>\n",
       "      <th>Investigation.Type</th>\n",
       "      <th>Accident.Number</th>\n",
       "      <th>Event.Date</th>\n",
       "      <th>Country</th>\n",
       "      <th>Injury.Severity</th>\n",
       "      <th>Aircraft.damage</th>\n",
       "      <th>Aircraft.Category</th>\n",
       "      <th>Make</th>\n",
       "      <th>Model</th>\n",
       "      <th>Number.of.Engines</th>\n",
       "      <th>Engine.Type</th>\n",
       "      <th>Purpose.of.flight</th>\n",
       "      <th>Total.Fatal.Injuries</th>\n",
       "      <th>Total.Serious.Injuries</th>\n",
       "      <th>Total.Minor.Injuries</th>\n",
       "      <th>Total.Uninjured</th>\n",
       "      <th>Broad.phase.of.flight</th>\n",
       "    </tr>\n",
       "  </thead>\n",
       "  <tbody>\n",
       "    <tr>\n",
       "      <th>0</th>\n",
       "      <td>20001218X45444</td>\n",
       "      <td>Accident</td>\n",
       "      <td>SEA87LA080</td>\n",
       "      <td>10/24/1948</td>\n",
       "      <td>United States</td>\n",
       "      <td>Fatal(2)</td>\n",
       "      <td>Destroyed</td>\n",
       "      <td>NaN</td>\n",
       "      <td>Stinson</td>\n",
       "      <td>108-3</td>\n",
       "      <td>1.0</td>\n",
       "      <td>Reciprocating</td>\n",
       "      <td>Personal</td>\n",
       "      <td>2.0</td>\n",
       "      <td>0.0</td>\n",
       "      <td>0.0</td>\n",
       "      <td>0.0</td>\n",
       "      <td>Cruise</td>\n",
       "    </tr>\n",
       "    <tr>\n",
       "      <th>1</th>\n",
       "      <td>20001218X45447</td>\n",
       "      <td>Accident</td>\n",
       "      <td>LAX94LA336</td>\n",
       "      <td>7/19/1962</td>\n",
       "      <td>United States</td>\n",
       "      <td>Fatal(4)</td>\n",
       "      <td>Destroyed</td>\n",
       "      <td>NaN</td>\n",
       "      <td>Piper</td>\n",
       "      <td>PA24-180</td>\n",
       "      <td>1.0</td>\n",
       "      <td>Reciprocating</td>\n",
       "      <td>Personal</td>\n",
       "      <td>4.0</td>\n",
       "      <td>0.0</td>\n",
       "      <td>0.0</td>\n",
       "      <td>0.0</td>\n",
       "      <td>Unknown</td>\n",
       "    </tr>\n",
       "    <tr>\n",
       "      <th>2</th>\n",
       "      <td>20061025X01555</td>\n",
       "      <td>Accident</td>\n",
       "      <td>NYC07LA005</td>\n",
       "      <td>8/30/1974</td>\n",
       "      <td>United States</td>\n",
       "      <td>Fatal(3)</td>\n",
       "      <td>Destroyed</td>\n",
       "      <td>NaN</td>\n",
       "      <td>Cessna</td>\n",
       "      <td>172M</td>\n",
       "      <td>1.0</td>\n",
       "      <td>Reciprocating</td>\n",
       "      <td>Personal</td>\n",
       "      <td>3.0</td>\n",
       "      <td>NaN</td>\n",
       "      <td>NaN</td>\n",
       "      <td>NaN</td>\n",
       "      <td>Cruise</td>\n",
       "    </tr>\n",
       "    <tr>\n",
       "      <th>3</th>\n",
       "      <td>20001218X45448</td>\n",
       "      <td>Accident</td>\n",
       "      <td>LAX96LA321</td>\n",
       "      <td>6/19/1977</td>\n",
       "      <td>United States</td>\n",
       "      <td>Fatal(2)</td>\n",
       "      <td>Destroyed</td>\n",
       "      <td>NaN</td>\n",
       "      <td>Rockwell</td>\n",
       "      <td>112</td>\n",
       "      <td>1.0</td>\n",
       "      <td>Reciprocating</td>\n",
       "      <td>Personal</td>\n",
       "      <td>2.0</td>\n",
       "      <td>0.0</td>\n",
       "      <td>0.0</td>\n",
       "      <td>0.0</td>\n",
       "      <td>Cruise</td>\n",
       "    </tr>\n",
       "    <tr>\n",
       "      <th>4</th>\n",
       "      <td>20041105X01764</td>\n",
       "      <td>Accident</td>\n",
       "      <td>CHI79FA064</td>\n",
       "      <td>8/2/1979</td>\n",
       "      <td>United States</td>\n",
       "      <td>Fatal(1)</td>\n",
       "      <td>Destroyed</td>\n",
       "      <td>NaN</td>\n",
       "      <td>Cessna</td>\n",
       "      <td>501</td>\n",
       "      <td>NaN</td>\n",
       "      <td>NaN</td>\n",
       "      <td>Personal</td>\n",
       "      <td>1.0</td>\n",
       "      <td>2.0</td>\n",
       "      <td>NaN</td>\n",
       "      <td>0.0</td>\n",
       "      <td>Approach</td>\n",
       "    </tr>\n",
       "    <tr>\n",
       "      <th>...</th>\n",
       "      <td>...</td>\n",
       "      <td>...</td>\n",
       "      <td>...</td>\n",
       "      <td>...</td>\n",
       "      <td>...</td>\n",
       "      <td>...</td>\n",
       "      <td>...</td>\n",
       "      <td>...</td>\n",
       "      <td>...</td>\n",
       "      <td>...</td>\n",
       "      <td>...</td>\n",
       "      <td>...</td>\n",
       "      <td>...</td>\n",
       "      <td>...</td>\n",
       "      <td>...</td>\n",
       "      <td>...</td>\n",
       "      <td>...</td>\n",
       "      <td>...</td>\n",
       "    </tr>\n",
       "    <tr>\n",
       "      <th>88884</th>\n",
       "      <td>2.02212E+13</td>\n",
       "      <td>Accident</td>\n",
       "      <td>ERA23LA093</td>\n",
       "      <td>12/26/2022</td>\n",
       "      <td>United States</td>\n",
       "      <td>Minor</td>\n",
       "      <td>NaN</td>\n",
       "      <td>NaN</td>\n",
       "      <td>PIPER</td>\n",
       "      <td>PA-28-151</td>\n",
       "      <td>NaN</td>\n",
       "      <td>NaN</td>\n",
       "      <td>Personal</td>\n",
       "      <td>0.0</td>\n",
       "      <td>1.0</td>\n",
       "      <td>0.0</td>\n",
       "      <td>0.0</td>\n",
       "      <td>NaN</td>\n",
       "    </tr>\n",
       "    <tr>\n",
       "      <th>88885</th>\n",
       "      <td>2.02212E+13</td>\n",
       "      <td>Accident</td>\n",
       "      <td>ERA23LA095</td>\n",
       "      <td>12/26/2022</td>\n",
       "      <td>United States</td>\n",
       "      <td>NaN</td>\n",
       "      <td>NaN</td>\n",
       "      <td>NaN</td>\n",
       "      <td>BELLANCA</td>\n",
       "      <td>7ECA</td>\n",
       "      <td>NaN</td>\n",
       "      <td>NaN</td>\n",
       "      <td>NaN</td>\n",
       "      <td>0.0</td>\n",
       "      <td>0.0</td>\n",
       "      <td>0.0</td>\n",
       "      <td>0.0</td>\n",
       "      <td>NaN</td>\n",
       "    </tr>\n",
       "    <tr>\n",
       "      <th>88886</th>\n",
       "      <td>2.02212E+13</td>\n",
       "      <td>Accident</td>\n",
       "      <td>WPR23LA075</td>\n",
       "      <td>12/26/2022</td>\n",
       "      <td>United States</td>\n",
       "      <td>Non-Fatal</td>\n",
       "      <td>Substantial</td>\n",
       "      <td>Airplane</td>\n",
       "      <td>AMERICAN CHAMPION AIRCRAFT</td>\n",
       "      <td>8GCBC</td>\n",
       "      <td>1.0</td>\n",
       "      <td>NaN</td>\n",
       "      <td>Personal</td>\n",
       "      <td>0.0</td>\n",
       "      <td>0.0</td>\n",
       "      <td>0.0</td>\n",
       "      <td>1.0</td>\n",
       "      <td>NaN</td>\n",
       "    </tr>\n",
       "    <tr>\n",
       "      <th>88887</th>\n",
       "      <td>2.02212E+13</td>\n",
       "      <td>Accident</td>\n",
       "      <td>WPR23LA076</td>\n",
       "      <td>12/26/2022</td>\n",
       "      <td>United States</td>\n",
       "      <td>NaN</td>\n",
       "      <td>NaN</td>\n",
       "      <td>NaN</td>\n",
       "      <td>CESSNA</td>\n",
       "      <td>210N</td>\n",
       "      <td>NaN</td>\n",
       "      <td>NaN</td>\n",
       "      <td>Personal</td>\n",
       "      <td>0.0</td>\n",
       "      <td>0.0</td>\n",
       "      <td>0.0</td>\n",
       "      <td>0.0</td>\n",
       "      <td>NaN</td>\n",
       "    </tr>\n",
       "    <tr>\n",
       "      <th>88888</th>\n",
       "      <td>2.02212E+13</td>\n",
       "      <td>Accident</td>\n",
       "      <td>ERA23LA097</td>\n",
       "      <td>12/29/2022</td>\n",
       "      <td>United States</td>\n",
       "      <td>Minor</td>\n",
       "      <td>NaN</td>\n",
       "      <td>NaN</td>\n",
       "      <td>PIPER</td>\n",
       "      <td>PA-24-260</td>\n",
       "      <td>NaN</td>\n",
       "      <td>NaN</td>\n",
       "      <td>Personal</td>\n",
       "      <td>0.0</td>\n",
       "      <td>1.0</td>\n",
       "      <td>0.0</td>\n",
       "      <td>1.0</td>\n",
       "      <td>NaN</td>\n",
       "    </tr>\n",
       "  </tbody>\n",
       "</table>\n",
       "<p>88889 rows × 18 columns</p>\n",
       "</div>"
      ],
      "text/plain": [
       "             Event.Id Investigation.Type Accident.Number  Event.Date  \\\n",
       "0      20001218X45444           Accident      SEA87LA080  10/24/1948   \n",
       "1      20001218X45447           Accident      LAX94LA336   7/19/1962   \n",
       "2      20061025X01555           Accident      NYC07LA005   8/30/1974   \n",
       "3      20001218X45448           Accident      LAX96LA321   6/19/1977   \n",
       "4      20041105X01764           Accident      CHI79FA064    8/2/1979   \n",
       "...               ...                ...             ...         ...   \n",
       "88884     2.02212E+13           Accident      ERA23LA093  12/26/2022   \n",
       "88885     2.02212E+13           Accident      ERA23LA095  12/26/2022   \n",
       "88886     2.02212E+13           Accident      WPR23LA075  12/26/2022   \n",
       "88887     2.02212E+13           Accident      WPR23LA076  12/26/2022   \n",
       "88888     2.02212E+13           Accident      ERA23LA097  12/29/2022   \n",
       "\n",
       "             Country Injury.Severity Aircraft.damage Aircraft.Category  \\\n",
       "0      United States        Fatal(2)       Destroyed               NaN   \n",
       "1      United States        Fatal(4)       Destroyed               NaN   \n",
       "2      United States        Fatal(3)       Destroyed               NaN   \n",
       "3      United States        Fatal(2)       Destroyed               NaN   \n",
       "4      United States        Fatal(1)       Destroyed               NaN   \n",
       "...              ...             ...             ...               ...   \n",
       "88884  United States           Minor             NaN               NaN   \n",
       "88885  United States             NaN             NaN               NaN   \n",
       "88886  United States       Non-Fatal     Substantial          Airplane   \n",
       "88887  United States             NaN             NaN               NaN   \n",
       "88888  United States           Minor             NaN               NaN   \n",
       "\n",
       "                             Make      Model  Number.of.Engines  \\\n",
       "0                         Stinson      108-3                1.0   \n",
       "1                           Piper   PA24-180                1.0   \n",
       "2                          Cessna       172M                1.0   \n",
       "3                        Rockwell        112                1.0   \n",
       "4                          Cessna        501                NaN   \n",
       "...                           ...        ...                ...   \n",
       "88884                       PIPER  PA-28-151                NaN   \n",
       "88885                    BELLANCA       7ECA                NaN   \n",
       "88886  AMERICAN CHAMPION AIRCRAFT      8GCBC                1.0   \n",
       "88887                      CESSNA       210N                NaN   \n",
       "88888                       PIPER  PA-24-260                NaN   \n",
       "\n",
       "         Engine.Type Purpose.of.flight  Total.Fatal.Injuries  \\\n",
       "0      Reciprocating          Personal                   2.0   \n",
       "1      Reciprocating          Personal                   4.0   \n",
       "2      Reciprocating          Personal                   3.0   \n",
       "3      Reciprocating          Personal                   2.0   \n",
       "4                NaN          Personal                   1.0   \n",
       "...              ...               ...                   ...   \n",
       "88884            NaN          Personal                   0.0   \n",
       "88885            NaN               NaN                   0.0   \n",
       "88886            NaN          Personal                   0.0   \n",
       "88887            NaN          Personal                   0.0   \n",
       "88888            NaN          Personal                   0.0   \n",
       "\n",
       "       Total.Serious.Injuries  Total.Minor.Injuries  Total.Uninjured  \\\n",
       "0                         0.0                   0.0              0.0   \n",
       "1                         0.0                   0.0              0.0   \n",
       "2                         NaN                   NaN              NaN   \n",
       "3                         0.0                   0.0              0.0   \n",
       "4                         2.0                   NaN              0.0   \n",
       "...                       ...                   ...              ...   \n",
       "88884                     1.0                   0.0              0.0   \n",
       "88885                     0.0                   0.0              0.0   \n",
       "88886                     0.0                   0.0              1.0   \n",
       "88887                     0.0                   0.0              0.0   \n",
       "88888                     1.0                   0.0              1.0   \n",
       "\n",
       "      Broad.phase.of.flight  \n",
       "0                    Cruise  \n",
       "1                   Unknown  \n",
       "2                    Cruise  \n",
       "3                    Cruise  \n",
       "4                  Approach  \n",
       "...                     ...  \n",
       "88884                   NaN  \n",
       "88885                   NaN  \n",
       "88886                   NaN  \n",
       "88887                   NaN  \n",
       "88888                   NaN  \n",
       "\n",
       "[88889 rows x 18 columns]"
      ]
     },
     "execution_count": 522,
     "metadata": {},
     "output_type": "execute_result"
    }
   ],
   "source": [
    "#summarize statistical values\n",
    "df.describe()\n",
    "df"
   ]
  },
  {
   "cell_type": "markdown",
   "id": "e4a8bf46-e4cb-4dc4-aaa2-e156790e88b4",
   "metadata": {},
   "source": [
    "Determine the risk of the aircraft's involvement in accidents and incidents.This can be looked at separately"
   ]
  },
  {
   "cell_type": "code",
   "execution_count": 525,
   "id": "a35f654a-446d-4121-974b-3e9b4b75d7a5",
   "metadata": {},
   "outputs": [
    {
     "data": {
      "text/html": [
       "<div>\n",
       "<style scoped>\n",
       "    .dataframe tbody tr th:only-of-type {\n",
       "        vertical-align: middle;\n",
       "    }\n",
       "\n",
       "    .dataframe tbody tr th {\n",
       "        vertical-align: top;\n",
       "    }\n",
       "\n",
       "    .dataframe thead th {\n",
       "        text-align: right;\n",
       "    }\n",
       "</style>\n",
       "<table border=\"1\" class=\"dataframe\">\n",
       "  <thead>\n",
       "    <tr style=\"text-align: right;\">\n",
       "      <th></th>\n",
       "      <th>Event.Id</th>\n",
       "      <th>Investigation.Type</th>\n",
       "      <th>Accident.Number</th>\n",
       "      <th>Event.Date</th>\n",
       "      <th>Country</th>\n",
       "      <th>Injury.Severity</th>\n",
       "      <th>Aircraft.damage</th>\n",
       "      <th>Aircraft.Category</th>\n",
       "      <th>Make</th>\n",
       "      <th>Model</th>\n",
       "      <th>Number.of.Engines</th>\n",
       "      <th>Engine.Type</th>\n",
       "      <th>Purpose.of.flight</th>\n",
       "      <th>Total.Fatal.Injuries</th>\n",
       "      <th>Total.Serious.Injuries</th>\n",
       "      <th>Total.Minor.Injuries</th>\n",
       "      <th>Total.Uninjured</th>\n",
       "      <th>Broad.phase.of.flight</th>\n",
       "    </tr>\n",
       "  </thead>\n",
       "  <tbody>\n",
       "    <tr>\n",
       "      <th>0</th>\n",
       "      <td>20001218X45444</td>\n",
       "      <td>Accident</td>\n",
       "      <td>SEA87LA080</td>\n",
       "      <td>10/24/1948</td>\n",
       "      <td>United States</td>\n",
       "      <td>Fatal(2)</td>\n",
       "      <td>Destroyed</td>\n",
       "      <td>NaN</td>\n",
       "      <td>Stinson</td>\n",
       "      <td>108-3</td>\n",
       "      <td>1.0</td>\n",
       "      <td>Reciprocating</td>\n",
       "      <td>Personal</td>\n",
       "      <td>2.0</td>\n",
       "      <td>0.0</td>\n",
       "      <td>0.0</td>\n",
       "      <td>0.0</td>\n",
       "      <td>Cruise</td>\n",
       "    </tr>\n",
       "    <tr>\n",
       "      <th>1</th>\n",
       "      <td>20001218X45447</td>\n",
       "      <td>Accident</td>\n",
       "      <td>LAX94LA336</td>\n",
       "      <td>7/19/1962</td>\n",
       "      <td>United States</td>\n",
       "      <td>Fatal(4)</td>\n",
       "      <td>Destroyed</td>\n",
       "      <td>NaN</td>\n",
       "      <td>Piper</td>\n",
       "      <td>PA24-180</td>\n",
       "      <td>1.0</td>\n",
       "      <td>Reciprocating</td>\n",
       "      <td>Personal</td>\n",
       "      <td>4.0</td>\n",
       "      <td>0.0</td>\n",
       "      <td>0.0</td>\n",
       "      <td>0.0</td>\n",
       "      <td>Unknown</td>\n",
       "    </tr>\n",
       "    <tr>\n",
       "      <th>2</th>\n",
       "      <td>20061025X01555</td>\n",
       "      <td>Accident</td>\n",
       "      <td>NYC07LA005</td>\n",
       "      <td>8/30/1974</td>\n",
       "      <td>United States</td>\n",
       "      <td>Fatal(3)</td>\n",
       "      <td>Destroyed</td>\n",
       "      <td>NaN</td>\n",
       "      <td>Cessna</td>\n",
       "      <td>172M</td>\n",
       "      <td>1.0</td>\n",
       "      <td>Reciprocating</td>\n",
       "      <td>Personal</td>\n",
       "      <td>3.0</td>\n",
       "      <td>NaN</td>\n",
       "      <td>NaN</td>\n",
       "      <td>NaN</td>\n",
       "      <td>Cruise</td>\n",
       "    </tr>\n",
       "    <tr>\n",
       "      <th>3</th>\n",
       "      <td>20001218X45448</td>\n",
       "      <td>Accident</td>\n",
       "      <td>LAX96LA321</td>\n",
       "      <td>6/19/1977</td>\n",
       "      <td>United States</td>\n",
       "      <td>Fatal(2)</td>\n",
       "      <td>Destroyed</td>\n",
       "      <td>NaN</td>\n",
       "      <td>Rockwell</td>\n",
       "      <td>112</td>\n",
       "      <td>1.0</td>\n",
       "      <td>Reciprocating</td>\n",
       "      <td>Personal</td>\n",
       "      <td>2.0</td>\n",
       "      <td>0.0</td>\n",
       "      <td>0.0</td>\n",
       "      <td>0.0</td>\n",
       "      <td>Cruise</td>\n",
       "    </tr>\n",
       "    <tr>\n",
       "      <th>4</th>\n",
       "      <td>20041105X01764</td>\n",
       "      <td>Accident</td>\n",
       "      <td>CHI79FA064</td>\n",
       "      <td>8/2/1979</td>\n",
       "      <td>United States</td>\n",
       "      <td>Fatal(1)</td>\n",
       "      <td>Destroyed</td>\n",
       "      <td>NaN</td>\n",
       "      <td>Cessna</td>\n",
       "      <td>501</td>\n",
       "      <td>NaN</td>\n",
       "      <td>NaN</td>\n",
       "      <td>Personal</td>\n",
       "      <td>1.0</td>\n",
       "      <td>2.0</td>\n",
       "      <td>NaN</td>\n",
       "      <td>0.0</td>\n",
       "      <td>Approach</td>\n",
       "    </tr>\n",
       "    <tr>\n",
       "      <th>...</th>\n",
       "      <td>...</td>\n",
       "      <td>...</td>\n",
       "      <td>...</td>\n",
       "      <td>...</td>\n",
       "      <td>...</td>\n",
       "      <td>...</td>\n",
       "      <td>...</td>\n",
       "      <td>...</td>\n",
       "      <td>...</td>\n",
       "      <td>...</td>\n",
       "      <td>...</td>\n",
       "      <td>...</td>\n",
       "      <td>...</td>\n",
       "      <td>...</td>\n",
       "      <td>...</td>\n",
       "      <td>...</td>\n",
       "      <td>...</td>\n",
       "      <td>...</td>\n",
       "    </tr>\n",
       "    <tr>\n",
       "      <th>85010</th>\n",
       "      <td>2.02212E+13</td>\n",
       "      <td>Accident</td>\n",
       "      <td>ERA23LA093</td>\n",
       "      <td>12/26/2022</td>\n",
       "      <td>United States</td>\n",
       "      <td>Minor</td>\n",
       "      <td>NaN</td>\n",
       "      <td>NaN</td>\n",
       "      <td>PIPER</td>\n",
       "      <td>PA-28-151</td>\n",
       "      <td>NaN</td>\n",
       "      <td>NaN</td>\n",
       "      <td>Personal</td>\n",
       "      <td>0.0</td>\n",
       "      <td>1.0</td>\n",
       "      <td>0.0</td>\n",
       "      <td>0.0</td>\n",
       "      <td>NaN</td>\n",
       "    </tr>\n",
       "    <tr>\n",
       "      <th>85011</th>\n",
       "      <td>2.02212E+13</td>\n",
       "      <td>Accident</td>\n",
       "      <td>ERA23LA095</td>\n",
       "      <td>12/26/2022</td>\n",
       "      <td>United States</td>\n",
       "      <td>NaN</td>\n",
       "      <td>NaN</td>\n",
       "      <td>NaN</td>\n",
       "      <td>BELLANCA</td>\n",
       "      <td>7ECA</td>\n",
       "      <td>NaN</td>\n",
       "      <td>NaN</td>\n",
       "      <td>NaN</td>\n",
       "      <td>0.0</td>\n",
       "      <td>0.0</td>\n",
       "      <td>0.0</td>\n",
       "      <td>0.0</td>\n",
       "      <td>NaN</td>\n",
       "    </tr>\n",
       "    <tr>\n",
       "      <th>85012</th>\n",
       "      <td>2.02212E+13</td>\n",
       "      <td>Accident</td>\n",
       "      <td>WPR23LA075</td>\n",
       "      <td>12/26/2022</td>\n",
       "      <td>United States</td>\n",
       "      <td>Non-Fatal</td>\n",
       "      <td>Substantial</td>\n",
       "      <td>Airplane</td>\n",
       "      <td>AMERICAN CHAMPION AIRCRAFT</td>\n",
       "      <td>8GCBC</td>\n",
       "      <td>1.0</td>\n",
       "      <td>NaN</td>\n",
       "      <td>Personal</td>\n",
       "      <td>0.0</td>\n",
       "      <td>0.0</td>\n",
       "      <td>0.0</td>\n",
       "      <td>1.0</td>\n",
       "      <td>NaN</td>\n",
       "    </tr>\n",
       "    <tr>\n",
       "      <th>85013</th>\n",
       "      <td>2.02212E+13</td>\n",
       "      <td>Accident</td>\n",
       "      <td>WPR23LA076</td>\n",
       "      <td>12/26/2022</td>\n",
       "      <td>United States</td>\n",
       "      <td>NaN</td>\n",
       "      <td>NaN</td>\n",
       "      <td>NaN</td>\n",
       "      <td>CESSNA</td>\n",
       "      <td>210N</td>\n",
       "      <td>NaN</td>\n",
       "      <td>NaN</td>\n",
       "      <td>Personal</td>\n",
       "      <td>0.0</td>\n",
       "      <td>0.0</td>\n",
       "      <td>0.0</td>\n",
       "      <td>0.0</td>\n",
       "      <td>NaN</td>\n",
       "    </tr>\n",
       "    <tr>\n",
       "      <th>85014</th>\n",
       "      <td>2.02212E+13</td>\n",
       "      <td>Accident</td>\n",
       "      <td>ERA23LA097</td>\n",
       "      <td>12/29/2022</td>\n",
       "      <td>United States</td>\n",
       "      <td>Minor</td>\n",
       "      <td>NaN</td>\n",
       "      <td>NaN</td>\n",
       "      <td>PIPER</td>\n",
       "      <td>PA-24-260</td>\n",
       "      <td>NaN</td>\n",
       "      <td>NaN</td>\n",
       "      <td>Personal</td>\n",
       "      <td>0.0</td>\n",
       "      <td>1.0</td>\n",
       "      <td>0.0</td>\n",
       "      <td>1.0</td>\n",
       "      <td>NaN</td>\n",
       "    </tr>\n",
       "  </tbody>\n",
       "</table>\n",
       "<p>85015 rows × 18 columns</p>\n",
       "</div>"
      ],
      "text/plain": [
       "             Event.Id Investigation.Type Accident.Number  Event.Date  \\\n",
       "0      20001218X45444           Accident      SEA87LA080  10/24/1948   \n",
       "1      20001218X45447           Accident      LAX94LA336   7/19/1962   \n",
       "2      20061025X01555           Accident      NYC07LA005   8/30/1974   \n",
       "3      20001218X45448           Accident      LAX96LA321   6/19/1977   \n",
       "4      20041105X01764           Accident      CHI79FA064    8/2/1979   \n",
       "...               ...                ...             ...         ...   \n",
       "85010     2.02212E+13           Accident      ERA23LA093  12/26/2022   \n",
       "85011     2.02212E+13           Accident      ERA23LA095  12/26/2022   \n",
       "85012     2.02212E+13           Accident      WPR23LA075  12/26/2022   \n",
       "85013     2.02212E+13           Accident      WPR23LA076  12/26/2022   \n",
       "85014     2.02212E+13           Accident      ERA23LA097  12/29/2022   \n",
       "\n",
       "             Country Injury.Severity Aircraft.damage Aircraft.Category  \\\n",
       "0      United States        Fatal(2)       Destroyed               NaN   \n",
       "1      United States        Fatal(4)       Destroyed               NaN   \n",
       "2      United States        Fatal(3)       Destroyed               NaN   \n",
       "3      United States        Fatal(2)       Destroyed               NaN   \n",
       "4      United States        Fatal(1)       Destroyed               NaN   \n",
       "...              ...             ...             ...               ...   \n",
       "85010  United States           Minor             NaN               NaN   \n",
       "85011  United States             NaN             NaN               NaN   \n",
       "85012  United States       Non-Fatal     Substantial          Airplane   \n",
       "85013  United States             NaN             NaN               NaN   \n",
       "85014  United States           Minor             NaN               NaN   \n",
       "\n",
       "                             Make      Model  Number.of.Engines  \\\n",
       "0                         Stinson      108-3                1.0   \n",
       "1                           Piper   PA24-180                1.0   \n",
       "2                          Cessna       172M                1.0   \n",
       "3                        Rockwell        112                1.0   \n",
       "4                          Cessna        501                NaN   \n",
       "...                           ...        ...                ...   \n",
       "85010                       PIPER  PA-28-151                NaN   \n",
       "85011                    BELLANCA       7ECA                NaN   \n",
       "85012  AMERICAN CHAMPION AIRCRAFT      8GCBC                1.0   \n",
       "85013                      CESSNA       210N                NaN   \n",
       "85014                       PIPER  PA-24-260                NaN   \n",
       "\n",
       "         Engine.Type Purpose.of.flight  Total.Fatal.Injuries  \\\n",
       "0      Reciprocating          Personal                   2.0   \n",
       "1      Reciprocating          Personal                   4.0   \n",
       "2      Reciprocating          Personal                   3.0   \n",
       "3      Reciprocating          Personal                   2.0   \n",
       "4                NaN          Personal                   1.0   \n",
       "...              ...               ...                   ...   \n",
       "85010            NaN          Personal                   0.0   \n",
       "85011            NaN               NaN                   0.0   \n",
       "85012            NaN          Personal                   0.0   \n",
       "85013            NaN          Personal                   0.0   \n",
       "85014            NaN          Personal                   0.0   \n",
       "\n",
       "       Total.Serious.Injuries  Total.Minor.Injuries  Total.Uninjured  \\\n",
       "0                         0.0                   0.0              0.0   \n",
       "1                         0.0                   0.0              0.0   \n",
       "2                         NaN                   NaN              NaN   \n",
       "3                         0.0                   0.0              0.0   \n",
       "4                         2.0                   NaN              0.0   \n",
       "...                       ...                   ...              ...   \n",
       "85010                     1.0                   0.0              0.0   \n",
       "85011                     0.0                   0.0              0.0   \n",
       "85012                     0.0                   0.0              1.0   \n",
       "85013                     0.0                   0.0              0.0   \n",
       "85014                     1.0                   0.0              1.0   \n",
       "\n",
       "      Broad.phase.of.flight  \n",
       "0                    Cruise  \n",
       "1                   Unknown  \n",
       "2                    Cruise  \n",
       "3                    Cruise  \n",
       "4                  Approach  \n",
       "...                     ...  \n",
       "85010                   NaN  \n",
       "85011                   NaN  \n",
       "85012                   NaN  \n",
       "85013                   NaN  \n",
       "85014                   NaN  \n",
       "\n",
       "[85015 rows x 18 columns]"
      ]
     },
     "execution_count": 525,
     "metadata": {},
     "output_type": "execute_result"
    }
   ],
   "source": [
    "df_Accidents = df[df['Investigation.Type'] =='Accident'].copy()\n",
    "df_Incidents = df[df['Investigation.Type'] =='Incident'].copy()\n",
    "df_Accidents.reset_index(drop = True, inplace = True)\n",
    "df_Accidents"
   ]
  },
  {
   "cell_type": "markdown",
   "id": "e8a17539-26b7-439e-9bf2-77974ab96be5",
   "metadata": {},
   "source": [
    "Get a copy of the dataframe where the USA is the country and Business is the purpose of the flight. The company is setting up a business hence the purpose is business and not personal.The preassumption is that the company wants to set up in the USA."
   ]
  },
  {
   "cell_type": "code",
   "execution_count": 528,
   "id": "c802d272-b66c-4b85-9bd1-85393a01e793",
   "metadata": {},
   "outputs": [
    {
     "data": {
      "text/html": [
       "<div>\n",
       "<style scoped>\n",
       "    .dataframe tbody tr th:only-of-type {\n",
       "        vertical-align: middle;\n",
       "    }\n",
       "\n",
       "    .dataframe tbody tr th {\n",
       "        vertical-align: top;\n",
       "    }\n",
       "\n",
       "    .dataframe thead th {\n",
       "        text-align: right;\n",
       "    }\n",
       "</style>\n",
       "<table border=\"1\" class=\"dataframe\">\n",
       "  <thead>\n",
       "    <tr style=\"text-align: right;\">\n",
       "      <th></th>\n",
       "      <th>Event.Id</th>\n",
       "      <th>Investigation.Type</th>\n",
       "      <th>Accident.Number</th>\n",
       "      <th>Event.Date</th>\n",
       "      <th>Country</th>\n",
       "      <th>Injury.Severity</th>\n",
       "      <th>Aircraft.damage</th>\n",
       "      <th>Aircraft.Category</th>\n",
       "      <th>Make</th>\n",
       "      <th>Model</th>\n",
       "      <th>Number.of.Engines</th>\n",
       "      <th>Engine.Type</th>\n",
       "      <th>Purpose.of.flight</th>\n",
       "      <th>Total.Fatal.Injuries</th>\n",
       "      <th>Total.Serious.Injuries</th>\n",
       "      <th>Total.Minor.Injuries</th>\n",
       "      <th>Total.Uninjured</th>\n",
       "      <th>Broad.phase.of.flight</th>\n",
       "    </tr>\n",
       "  </thead>\n",
       "  <tbody>\n",
       "    <tr>\n",
       "      <th>8</th>\n",
       "      <td>20020909X01561</td>\n",
       "      <td>Accident</td>\n",
       "      <td>NYC82DA015</td>\n",
       "      <td>1/1/1982</td>\n",
       "      <td>United States</td>\n",
       "      <td>Non-Fatal</td>\n",
       "      <td>Substantial</td>\n",
       "      <td>Airplane</td>\n",
       "      <td>Cessna</td>\n",
       "      <td>401B</td>\n",
       "      <td>2.0</td>\n",
       "      <td>Reciprocating</td>\n",
       "      <td>Business</td>\n",
       "      <td>0.0</td>\n",
       "      <td>0.0</td>\n",
       "      <td>0.0</td>\n",
       "      <td>2.0</td>\n",
       "      <td>Landing</td>\n",
       "    </tr>\n",
       "    <tr>\n",
       "      <th>24</th>\n",
       "      <td>20020917X01905</td>\n",
       "      <td>Accident</td>\n",
       "      <td>DCA82AA008</td>\n",
       "      <td>1/3/1982</td>\n",
       "      <td>United States</td>\n",
       "      <td>Fatal(8)</td>\n",
       "      <td>Destroyed</td>\n",
       "      <td>Airplane</td>\n",
       "      <td>Cessna</td>\n",
       "      <td>414A</td>\n",
       "      <td>2.0</td>\n",
       "      <td>Reciprocating</td>\n",
       "      <td>Business</td>\n",
       "      <td>8.0</td>\n",
       "      <td>0.0</td>\n",
       "      <td>0.0</td>\n",
       "      <td>0.0</td>\n",
       "      <td>Approach</td>\n",
       "    </tr>\n",
       "    <tr>\n",
       "      <th>36</th>\n",
       "      <td>20020917X02304</td>\n",
       "      <td>Accident</td>\n",
       "      <td>LAX82FUM06</td>\n",
       "      <td>1/5/1982</td>\n",
       "      <td>United States</td>\n",
       "      <td>Fatal(3)</td>\n",
       "      <td>Destroyed</td>\n",
       "      <td>Airplane</td>\n",
       "      <td>Navion</td>\n",
       "      <td>A</td>\n",
       "      <td>1.0</td>\n",
       "      <td>Reciprocating</td>\n",
       "      <td>Business</td>\n",
       "      <td>3.0</td>\n",
       "      <td>0.0</td>\n",
       "      <td>0.0</td>\n",
       "      <td>0.0</td>\n",
       "      <td>Cruise</td>\n",
       "    </tr>\n",
       "    <tr>\n",
       "      <th>39</th>\n",
       "      <td>20020917X01993</td>\n",
       "      <td>Accident</td>\n",
       "      <td>FTW82DA037</td>\n",
       "      <td>1/5/1982</td>\n",
       "      <td>United States</td>\n",
       "      <td>Non-Fatal</td>\n",
       "      <td>Substantial</td>\n",
       "      <td>Airplane</td>\n",
       "      <td>Piper</td>\n",
       "      <td>PA-24-250</td>\n",
       "      <td>1.0</td>\n",
       "      <td>Reciprocating</td>\n",
       "      <td>Business</td>\n",
       "      <td>0.0</td>\n",
       "      <td>1.0</td>\n",
       "      <td>0.0</td>\n",
       "      <td>1.0</td>\n",
       "      <td>Descent</td>\n",
       "    </tr>\n",
       "    <tr>\n",
       "      <th>44</th>\n",
       "      <td>20020917X02157</td>\n",
       "      <td>Accident</td>\n",
       "      <td>LAX82DA039</td>\n",
       "      <td>1/6/1982</td>\n",
       "      <td>United States</td>\n",
       "      <td>Non-Fatal</td>\n",
       "      <td>Substantial</td>\n",
       "      <td>Helicopter</td>\n",
       "      <td>Aerospatiale</td>\n",
       "      <td>SA-316B</td>\n",
       "      <td>1.0</td>\n",
       "      <td>Turbo Shaft</td>\n",
       "      <td>Business</td>\n",
       "      <td>0.0</td>\n",
       "      <td>0.0</td>\n",
       "      <td>0.0</td>\n",
       "      <td>6.0</td>\n",
       "      <td>Taxi</td>\n",
       "    </tr>\n",
       "    <tr>\n",
       "      <th>...</th>\n",
       "      <td>...</td>\n",
       "      <td>...</td>\n",
       "      <td>...</td>\n",
       "      <td>...</td>\n",
       "      <td>...</td>\n",
       "      <td>...</td>\n",
       "      <td>...</td>\n",
       "      <td>...</td>\n",
       "      <td>...</td>\n",
       "      <td>...</td>\n",
       "      <td>...</td>\n",
       "      <td>...</td>\n",
       "      <td>...</td>\n",
       "      <td>...</td>\n",
       "      <td>...</td>\n",
       "      <td>...</td>\n",
       "      <td>...</td>\n",
       "      <td>...</td>\n",
       "    </tr>\n",
       "    <tr>\n",
       "      <th>84901</th>\n",
       "      <td>2.02211E+13</td>\n",
       "      <td>Accident</td>\n",
       "      <td>CEN23FA031</td>\n",
       "      <td>11/9/2022</td>\n",
       "      <td>United States</td>\n",
       "      <td>Fatal</td>\n",
       "      <td>Destroyed</td>\n",
       "      <td>Airplane</td>\n",
       "      <td>PIPER</td>\n",
       "      <td>PA46-500TP</td>\n",
       "      <td>1.0</td>\n",
       "      <td>NaN</td>\n",
       "      <td>Business</td>\n",
       "      <td>2.0</td>\n",
       "      <td>0.0</td>\n",
       "      <td>0.0</td>\n",
       "      <td>0.0</td>\n",
       "      <td>NaN</td>\n",
       "    </tr>\n",
       "    <tr>\n",
       "      <th>84921</th>\n",
       "      <td>2.02211E+13</td>\n",
       "      <td>Accident</td>\n",
       "      <td>CEN23LA037</td>\n",
       "      <td>11/15/2022</td>\n",
       "      <td>United States</td>\n",
       "      <td>Minor</td>\n",
       "      <td>Substantial</td>\n",
       "      <td>Airplane</td>\n",
       "      <td>FAIRCHILD</td>\n",
       "      <td>SA227-AT</td>\n",
       "      <td>2.0</td>\n",
       "      <td>NaN</td>\n",
       "      <td>Business</td>\n",
       "      <td>0.0</td>\n",
       "      <td>2.0</td>\n",
       "      <td>0.0</td>\n",
       "      <td>1.0</td>\n",
       "      <td>NaN</td>\n",
       "    </tr>\n",
       "    <tr>\n",
       "      <th>84936</th>\n",
       "      <td>2.02211E+13</td>\n",
       "      <td>Accident</td>\n",
       "      <td>ANC23LA006</td>\n",
       "      <td>11/20/2022</td>\n",
       "      <td>United States</td>\n",
       "      <td>Non-Fatal</td>\n",
       "      <td>Substantial</td>\n",
       "      <td>Airplane</td>\n",
       "      <td>CESSNA</td>\n",
       "      <td>207</td>\n",
       "      <td>1.0</td>\n",
       "      <td>NaN</td>\n",
       "      <td>Business</td>\n",
       "      <td>0.0</td>\n",
       "      <td>0.0</td>\n",
       "      <td>0.0</td>\n",
       "      <td>7.0</td>\n",
       "      <td>NaN</td>\n",
       "    </tr>\n",
       "    <tr>\n",
       "      <th>84961</th>\n",
       "      <td>2.02211E+13</td>\n",
       "      <td>Accident</td>\n",
       "      <td>CEN23LA056</td>\n",
       "      <td>11/29/2022</td>\n",
       "      <td>United States</td>\n",
       "      <td>Minor</td>\n",
       "      <td>Substantial</td>\n",
       "      <td>Airplane</td>\n",
       "      <td>LEARJET INC</td>\n",
       "      <td>45</td>\n",
       "      <td>2.0</td>\n",
       "      <td>NaN</td>\n",
       "      <td>Business</td>\n",
       "      <td>0.0</td>\n",
       "      <td>2.0</td>\n",
       "      <td>0.0</td>\n",
       "      <td>6.0</td>\n",
       "      <td>NaN</td>\n",
       "    </tr>\n",
       "    <tr>\n",
       "      <th>84993</th>\n",
       "      <td>2.02212E+13</td>\n",
       "      <td>Accident</td>\n",
       "      <td>WPR23LA066</td>\n",
       "      <td>12/12/2022</td>\n",
       "      <td>United States</td>\n",
       "      <td>Minor</td>\n",
       "      <td>Substantial</td>\n",
       "      <td>Helicopter</td>\n",
       "      <td>AIRBUS HELICOPTERS</td>\n",
       "      <td>EC 130 T2</td>\n",
       "      <td>1.0</td>\n",
       "      <td>NaN</td>\n",
       "      <td>Business</td>\n",
       "      <td>0.0</td>\n",
       "      <td>1.0</td>\n",
       "      <td>0.0</td>\n",
       "      <td>0.0</td>\n",
       "      <td>NaN</td>\n",
       "    </tr>\n",
       "  </tbody>\n",
       "</table>\n",
       "<p>3744 rows × 18 columns</p>\n",
       "</div>"
      ],
      "text/plain": [
       "             Event.Id Investigation.Type Accident.Number  Event.Date  \\\n",
       "8      20020909X01561           Accident      NYC82DA015    1/1/1982   \n",
       "24     20020917X01905           Accident      DCA82AA008    1/3/1982   \n",
       "36     20020917X02304           Accident      LAX82FUM06    1/5/1982   \n",
       "39     20020917X01993           Accident      FTW82DA037    1/5/1982   \n",
       "44     20020917X02157           Accident      LAX82DA039    1/6/1982   \n",
       "...               ...                ...             ...         ...   \n",
       "84901     2.02211E+13           Accident      CEN23FA031   11/9/2022   \n",
       "84921     2.02211E+13           Accident      CEN23LA037  11/15/2022   \n",
       "84936     2.02211E+13           Accident      ANC23LA006  11/20/2022   \n",
       "84961     2.02211E+13           Accident      CEN23LA056  11/29/2022   \n",
       "84993     2.02212E+13           Accident      WPR23LA066  12/12/2022   \n",
       "\n",
       "             Country Injury.Severity Aircraft.damage Aircraft.Category  \\\n",
       "8      United States       Non-Fatal     Substantial          Airplane   \n",
       "24     United States        Fatal(8)       Destroyed          Airplane   \n",
       "36     United States        Fatal(3)       Destroyed          Airplane   \n",
       "39     United States       Non-Fatal     Substantial          Airplane   \n",
       "44     United States       Non-Fatal     Substantial        Helicopter   \n",
       "...              ...             ...             ...               ...   \n",
       "84901  United States           Fatal       Destroyed          Airplane   \n",
       "84921  United States           Minor     Substantial          Airplane   \n",
       "84936  United States       Non-Fatal     Substantial          Airplane   \n",
       "84961  United States           Minor     Substantial          Airplane   \n",
       "84993  United States           Minor     Substantial        Helicopter   \n",
       "\n",
       "                     Make       Model  Number.of.Engines    Engine.Type  \\\n",
       "8                  Cessna        401B                2.0  Reciprocating   \n",
       "24                 Cessna        414A                2.0  Reciprocating   \n",
       "36                 Navion           A                1.0  Reciprocating   \n",
       "39                  Piper   PA-24-250                1.0  Reciprocating   \n",
       "44           Aerospatiale     SA-316B                1.0    Turbo Shaft   \n",
       "...                   ...         ...                ...            ...   \n",
       "84901               PIPER  PA46-500TP                1.0            NaN   \n",
       "84921           FAIRCHILD    SA227-AT                2.0            NaN   \n",
       "84936              CESSNA         207                1.0            NaN   \n",
       "84961         LEARJET INC          45                2.0            NaN   \n",
       "84993  AIRBUS HELICOPTERS   EC 130 T2                1.0            NaN   \n",
       "\n",
       "      Purpose.of.flight  Total.Fatal.Injuries  Total.Serious.Injuries  \\\n",
       "8              Business                   0.0                     0.0   \n",
       "24             Business                   8.0                     0.0   \n",
       "36             Business                   3.0                     0.0   \n",
       "39             Business                   0.0                     1.0   \n",
       "44             Business                   0.0                     0.0   \n",
       "...                 ...                   ...                     ...   \n",
       "84901          Business                   2.0                     0.0   \n",
       "84921          Business                   0.0                     2.0   \n",
       "84936          Business                   0.0                     0.0   \n",
       "84961          Business                   0.0                     2.0   \n",
       "84993          Business                   0.0                     1.0   \n",
       "\n",
       "       Total.Minor.Injuries  Total.Uninjured Broad.phase.of.flight  \n",
       "8                       0.0              2.0               Landing  \n",
       "24                      0.0              0.0              Approach  \n",
       "36                      0.0              0.0                Cruise  \n",
       "39                      0.0              1.0               Descent  \n",
       "44                      0.0              6.0                  Taxi  \n",
       "...                     ...              ...                   ...  \n",
       "84901                   0.0              0.0                   NaN  \n",
       "84921                   0.0              1.0                   NaN  \n",
       "84936                   0.0              7.0                   NaN  \n",
       "84961                   0.0              6.0                   NaN  \n",
       "84993                   0.0              0.0                   NaN  \n",
       "\n",
       "[3744 rows x 18 columns]"
      ]
     },
     "execution_count": 528,
     "metadata": {},
     "output_type": "execute_result"
    }
   ],
   "source": [
    "df_Accidents = df_Accidents[(df_Accidents['Country'] == 'United States') & (df_Accidents['Purpose.of.flight'] == 'Business')].copy()\n",
    "df_Accidents"
   ]
  },
  {
   "cell_type": "code",
   "execution_count": 532,
   "id": "29da7a68-5b44-438d-b7a0-f6b82ab19732",
   "metadata": {},
   "outputs": [
    {
     "data": {
      "text/plain": [
       "Event.Id                     0\n",
       "Investigation.Type           0\n",
       "Accident.Number              0\n",
       "Event.Date                   0\n",
       "Country                      0\n",
       "Injury.Severity              1\n",
       "Aircraft.damage             55\n",
       "Aircraft.Category         2886\n",
       "Make                         0\n",
       "Model                        1\n",
       "Number.of.Engines           71\n",
       "Engine.Type                 99\n",
       "Purpose.of.flight            0\n",
       "Total.Fatal.Injuries       310\n",
       "Total.Serious.Injuries     374\n",
       "Total.Minor.Injuries       353\n",
       "Total.Uninjured            159\n",
       "Broad.phase.of.flight      481\n",
       "dtype: int64"
      ]
     },
     "execution_count": 532,
     "metadata": {},
     "output_type": "execute_result"
    }
   ],
   "source": [
    "#Counting missing values\n",
    "df_Accidents.isna().sum()\n"
   ]
  },
  {
   "cell_type": "code",
   "execution_count": 536,
   "id": "ae98bcff-4c2a-4152-8b8f-966a2a17ebd7",
   "metadata": {},
   "outputs": [],
   "source": [
    "#For categorical missing rows,fill in with the mode of that column"
   ]
  },
  {
   "cell_type": "code",
   "execution_count": 538,
   "id": "98db3d60-afab-4937-8305-8b2076d4b490",
   "metadata": {},
   "outputs": [
    {
     "data": {
      "text/plain": [
       "0"
      ]
     },
     "execution_count": 538,
     "metadata": {},
     "output_type": "execute_result"
    }
   ],
   "source": [
    "df_Accidents['Injury.Severity'].dtype #checking the datatype\n",
    "mode = df_Accidents['Injury.Severity'].mode()[0] #filling using mode\n",
    "df_Accidents['Injury.Severity'] = df_Accidents['Injury.Severity'].fillna(mode)\n",
    "df_Accidents['Injury.Severity'].isna().sum() #checking for remaining missing values"
   ]
  },
  {
   "cell_type": "code",
   "execution_count": 540,
   "id": "f9e6dfe6-7323-462f-a92e-8a9fba3dcb63",
   "metadata": {},
   "outputs": [
    {
     "data": {
      "text/plain": [
       "<bound method IndexOpsMixin.value_counts of 8        Non-Fatal\n",
       "24        Fatal(8)\n",
       "36        Fatal(3)\n",
       "39       Non-Fatal\n",
       "44       Non-Fatal\n",
       "           ...    \n",
       "84901        Fatal\n",
       "84921        Minor\n",
       "84936    Non-Fatal\n",
       "84961        Minor\n",
       "84993        Minor\n",
       "Name: Injury.Severity, Length: 3744, dtype: object>"
      ]
     },
     "execution_count": 540,
     "metadata": {},
     "output_type": "execute_result"
    }
   ],
   "source": [
    "#counting the values\n",
    "df_Accidents['Injury.Severity'].value_counts "
   ]
  },
  {
   "cell_type": "code",
   "execution_count": 542,
   "id": "9f045e3f-7baf-458e-a29b-777412ea3a4b",
   "metadata": {},
   "outputs": [
    {
     "data": {
      "text/plain": [
       "0"
      ]
     },
     "execution_count": 542,
     "metadata": {},
     "output_type": "execute_result"
    }
   ],
   "source": [
    "df_Accidents['Aircraft.damage'].dtype#checking the datatype\n",
    "mode = df_Accidents['Aircraft.damage'].mode()[0]#filling using mode\n",
    "df_Accidents['Aircraft.damage'] = df_Accidents['Aircraft.damage'].fillna(mode)\n",
    "df_Accidents['Aircraft.damage'].isna().sum()#checking for remaining missing values"
   ]
  },
  {
   "cell_type": "code",
   "execution_count": 546,
   "id": "b751fc3e-8d5a-490c-9bef-e725db11b23f",
   "metadata": {},
   "outputs": [
    {
     "data": {
      "text/plain": [
       "Aircraft.damage\n",
       "Substantial    2624\n",
       "Destroyed      1087\n",
       "Minor            31\n",
       "Unknown           2\n",
       "Name: count, dtype: int64"
      ]
     },
     "execution_count": 546,
     "metadata": {},
     "output_type": "execute_result"
    }
   ],
   "source": [
    "#counting the values\n",
    "df_Accidents['Aircraft.damage'].value_counts()"
   ]
  },
  {
   "cell_type": "code",
   "execution_count": 548,
   "id": "46e7805d-284c-4377-a147-217a9c1d33d9",
   "metadata": {},
   "outputs": [
    {
     "data": {
      "text/plain": [
       "0"
      ]
     },
     "execution_count": 548,
     "metadata": {},
     "output_type": "execute_result"
    }
   ],
   "source": [
    "df_Accidents['Aircraft.Category'].dtype #checking the datatype\n",
    "mode = df_Accidents['Aircraft.Category'].mode()[0]#filling using mode\n",
    "df_Accidents['Aircraft.Category'] = df_Accidents['Aircraft.Category'].fillna(mode)\n",
    "df_Accidents['Aircraft.Category'].isna().sum()#checking for remaining missing values"
   ]
  },
  {
   "cell_type": "code",
   "execution_count": 550,
   "id": "778692ba-e9ec-47ca-aa21-b515e27e4991",
   "metadata": {},
   "outputs": [
    {
     "data": {
      "text/plain": [
       "Aircraft.Category\n",
       "Airplane      3605\n",
       "Helicopter     109\n",
       "Balloon         27\n",
       "Glider           2\n",
       "Gyrocraft        1\n",
       "Name: count, dtype: int64"
      ]
     },
     "execution_count": 550,
     "metadata": {},
     "output_type": "execute_result"
    }
   ],
   "source": [
    "#counting the values\n",
    "df_Accidents['Aircraft.Category'].value_counts()"
   ]
  },
  {
   "cell_type": "code",
   "execution_count": 552,
   "id": "ff805a0a-6580-45b4-b3da-31b8f8e62dd5",
   "metadata": {},
   "outputs": [
    {
     "data": {
      "text/plain": [
       "0"
      ]
     },
     "execution_count": 552,
     "metadata": {},
     "output_type": "execute_result"
    }
   ],
   "source": [
    "df_Accidents['Model'].dtype#checking the datatype\n",
    "mode = df_Accidents['Model'].mode()[0]#filling using mode\n",
    "df_Accidents['Model'] = df_Accidents['Model'].fillna(mode)\n",
    "df_Accidents['Model'].isna().sum()#checking for remaining missing values"
   ]
  },
  {
   "cell_type": "code",
   "execution_count": 554,
   "id": "d193c233-e532-4270-b629-835bccb09065",
   "metadata": {},
   "outputs": [
    {
     "data": {
      "text/plain": [
       "Model\n",
       "A36          62\n",
       "T210N        52\n",
       "PA-18        52\n",
       "206B         40\n",
       "182          35\n",
       "             ..\n",
       "DA-20         1\n",
       "MAGNUM IX     1\n",
       "M20G          1\n",
       "AX-8B         1\n",
       "EC 130 T2     1\n",
       "Name: count, Length: 1220, dtype: int64"
      ]
     },
     "execution_count": 554,
     "metadata": {},
     "output_type": "execute_result"
    }
   ],
   "source": [
    "#counting the values\n",
    "df_Accidents['Model'].value_counts()"
   ]
  },
  {
   "cell_type": "code",
   "execution_count": 556,
   "id": "c1f2501f-af17-4888-a5db-985c155c4102",
   "metadata": {},
   "outputs": [
    {
     "data": {
      "text/plain": [
       "0"
      ]
     },
     "execution_count": 556,
     "metadata": {},
     "output_type": "execute_result"
    }
   ],
   "source": [
    "df_Accidents['Broad.phase.of.flight'].dtype#checking the datatype\n",
    "mode = df_Accidents['Broad.phase.of.flight'].mode()[0]#filling using mode\n",
    "df_Accidents['Broad.phase.of.flight'] = df_Accidents['Broad.phase.of.flight'].fillna(mode)\n",
    "df_Accidents['Broad.phase.of.flight'].isna().sum()#checking for remaining missing values"
   ]
  },
  {
   "cell_type": "code",
   "execution_count": 558,
   "id": "0a786e83-02fb-4b99-ba03-af112be3a6be",
   "metadata": {},
   "outputs": [
    {
     "data": {
      "text/plain": [
       "Broad.phase.of.flight\n",
       "Landing        1237\n",
       "Cruise          728\n",
       "Takeoff         564\n",
       "Approach        428\n",
       "Maneuvering     260\n",
       "Climb           139\n",
       "Descent         132\n",
       "Taxi            121\n",
       "Go-around        63\n",
       "Standing         49\n",
       "Unknown          21\n",
       "Other             2\n",
       "Name: count, dtype: int64"
      ]
     },
     "execution_count": 558,
     "metadata": {},
     "output_type": "execute_result"
    }
   ],
   "source": [
    "#counting the values\n",
    "df_Accidents['Broad.phase.of.flight'].value_counts()"
   ]
  },
  {
   "cell_type": "markdown",
   "id": "079d4664-fc6c-4133-adf5-384b868f0ae8",
   "metadata": {},
   "source": [
    "The number of engines and engine types are specific to an aircraft.Replacing the null rows with the mode reduces the variability for the analysis."
   ]
  },
  {
   "cell_type": "code",
   "execution_count": 561,
   "id": "6f19bf36-e814-452b-b33d-aa0c5b715cf8",
   "metadata": {},
   "outputs": [
    {
     "data": {
      "text/plain": [
       "0"
      ]
     },
     "execution_count": 561,
     "metadata": {},
     "output_type": "execute_result"
    }
   ],
   "source": [
    "#dropping missing values\n",
    "df_Accidents_1 = df_Accidents.dropna(subset = ['Number.of.Engines']).copy()\n",
    "df_Accidents_1['Number.of.Engines'].isna().sum()"
   ]
  },
  {
   "cell_type": "code",
   "execution_count": 563,
   "id": "df2bf8ff-e7ec-4fb4-9740-99f88cc6456c",
   "metadata": {},
   "outputs": [
    {
     "data": {
      "text/plain": [
       "Number.of.Engines\n",
       "1.0    2683\n",
       "2.0     951\n",
       "0.0      27\n",
       "4.0       8\n",
       "3.0       2\n",
       "8.0       2\n",
       "Name: count, dtype: int64"
      ]
     },
     "execution_count": 563,
     "metadata": {},
     "output_type": "execute_result"
    }
   ],
   "source": [
    "#counting the values\n",
    "df_Accidents['Number.of.Engines'].value_counts()"
   ]
  },
  {
   "cell_type": "code",
   "execution_count": 565,
   "id": "9b425d52-0fc3-47b5-9d30-7f9ea0797f98",
   "metadata": {},
   "outputs": [
    {
     "data": {
      "text/plain": [
       "0"
      ]
     },
     "execution_count": 565,
     "metadata": {},
     "output_type": "execute_result"
    }
   ],
   "source": [
    "#dropping missing values\n",
    "df_Accidents = df_Accidents_1.dropna(subset = ['Engine.Type']).copy()\n",
    "df_Accidents['Engine.Type'].isna().sum()"
   ]
  },
  {
   "cell_type": "code",
   "execution_count": 567,
   "id": "04a2db42-a068-42fc-bb65-da8b28786504",
   "metadata": {},
   "outputs": [
    {
     "data": {
      "text/plain": [
       "Engine.Type\n",
       "Reciprocating    3047\n",
       "Turbo Prop        220\n",
       "Turbo Shaft       215\n",
       "Turbo Fan          64\n",
       "Turbo Jet          36\n",
       "Unknown            15\n",
       "LR                  2\n",
       "Electric            1\n",
       "Name: count, dtype: int64"
      ]
     },
     "execution_count": 567,
     "metadata": {},
     "output_type": "execute_result"
    }
   ],
   "source": [
    "#counting the values\n",
    "df_Accidents['Engine.Type'].value_counts()"
   ]
  },
  {
   "cell_type": "code",
   "execution_count": 569,
   "id": "9072a432-28e2-4586-ab8e-db922cb073b5",
   "metadata": {},
   "outputs": [
    {
     "data": {
      "text/plain": [
       "Event.Id                    0\n",
       "Investigation.Type          0\n",
       "Accident.Number             0\n",
       "Event.Date                  0\n",
       "Country                     0\n",
       "Injury.Severity             0\n",
       "Aircraft.damage             0\n",
       "Aircraft.Category           0\n",
       "Make                        0\n",
       "Model                       0\n",
       "Number.of.Engines           0\n",
       "Engine.Type                 0\n",
       "Purpose.of.flight           0\n",
       "Total.Fatal.Injuries      294\n",
       "Total.Serious.Injuries    368\n",
       "Total.Minor.Injuries      344\n",
       "Total.Uninjured           156\n",
       "Broad.phase.of.flight       0\n",
       "dtype: int64"
      ]
     },
     "execution_count": 569,
     "metadata": {},
     "output_type": "execute_result"
    }
   ],
   "source": [
    "#Counting missing values\n",
    "df_Accidents.isna().sum()"
   ]
  },
  {
   "cell_type": "markdown",
   "id": "b73b0225-447d-4d39-a2bc-7d984e6a04d0",
   "metadata": {},
   "source": [
    "Replace nan with the mean of the columns"
   ]
  },
  {
   "cell_type": "code",
   "execution_count": 572,
   "id": "2020b3fb-773d-42e1-a1db-f11dc739c85b",
   "metadata": {},
   "outputs": [
    {
     "name": "stdout",
     "output_type": "stream",
     "text": [
      "[dtype('float64')]\n",
      "[dtype('float64')]\n",
      "[dtype('float64')]\n",
      "[dtype('float64')]\n"
     ]
    }
   ],
   "source": [
    "#finding data types of the numerical columns\n",
    "print([df_Accidents['Total.Fatal.Injuries'].dtype])\n",
    "print([df_Accidents['Total.Serious.Injuries'].dtype])\n",
    "print([df_Accidents['Total.Minor.Injuries'].dtype])\n",
    "print([df_Accidents['Total.Uninjured'].dtype])"
   ]
  },
  {
   "cell_type": "code",
   "execution_count": 574,
   "id": "79488190-135d-4b34-b200-68ed64afe72f",
   "metadata": {},
   "outputs": [],
   "source": [
    "mean = df_Accidents['Total.Fatal.Injuries'].mean()\n",
    "mean_1 = df_Accidents['Total.Serious.Injuries'].mean()\n",
    "mean_2 = df_Accidents['Total.Minor.Injuries'].mean()\n",
    "mean_3 = df_Accidents['Total.Uninjured'].mean()"
   ]
  },
  {
   "cell_type": "code",
   "execution_count": 578,
   "id": "77089054-658a-4894-a075-780441a63aaf",
   "metadata": {},
   "outputs": [],
   "source": [
    "#filling the missing values using mean\n",
    "df_Accidents['Total.Fatal.Injuries'] = df_Accidents['Total.Fatal.Injuries'].fillna(mean)\n",
    "df_Accidents['Total.Serious.Injuries'] = df_Accidents['Total.Serious.Injuries'].fillna(mean_1)\n",
    "df_Accidents['Total.Minor.Injuries'] = df_Accidents['Total.Minor.Injuries'].fillna(mean_2)\n",
    "df_Accidents['Total.Uninjured'] = df_Accidents['Total.Uninjured'].fillna(mean_3)\n"
   ]
  },
  {
   "cell_type": "code",
   "execution_count": 580,
   "id": "4f97c6db-8961-41a7-a784-15df3721dd39",
   "metadata": {},
   "outputs": [
    {
     "data": {
      "text/plain": [
       "Event.Id                  0\n",
       "Investigation.Type        0\n",
       "Accident.Number           0\n",
       "Event.Date                0\n",
       "Country                   0\n",
       "Injury.Severity           0\n",
       "Aircraft.damage           0\n",
       "Aircraft.Category         0\n",
       "Make                      0\n",
       "Model                     0\n",
       "Number.of.Engines         0\n",
       "Engine.Type               0\n",
       "Purpose.of.flight         0\n",
       "Total.Fatal.Injuries      0\n",
       "Total.Serious.Injuries    0\n",
       "Total.Minor.Injuries      0\n",
       "Total.Uninjured           0\n",
       "Broad.phase.of.flight     0\n",
       "dtype: int64"
      ]
     },
     "execution_count": 580,
     "metadata": {},
     "output_type": "execute_result"
    }
   ],
   "source": [
    "#Counting missing values\n",
    "df_Accidents.isna().sum()"
   ]
  },
  {
   "cell_type": "code",
   "execution_count": 582,
   "id": "a4371c27-f2f9-4d26-9c66-fe6ae409ec12",
   "metadata": {},
   "outputs": [
    {
     "data": {
      "text/html": [
       "<div>\n",
       "<style scoped>\n",
       "    .dataframe tbody tr th:only-of-type {\n",
       "        vertical-align: middle;\n",
       "    }\n",
       "\n",
       "    .dataframe tbody tr th {\n",
       "        vertical-align: top;\n",
       "    }\n",
       "\n",
       "    .dataframe thead th {\n",
       "        text-align: right;\n",
       "    }\n",
       "</style>\n",
       "<table border=\"1\" class=\"dataframe\">\n",
       "  <thead>\n",
       "    <tr style=\"text-align: right;\">\n",
       "      <th></th>\n",
       "      <th>Event.Id</th>\n",
       "      <th>Investigation.Type</th>\n",
       "      <th>Accident.Number</th>\n",
       "      <th>Event.Date</th>\n",
       "      <th>Country</th>\n",
       "      <th>Injury.Severity</th>\n",
       "      <th>Aircraft.damage</th>\n",
       "      <th>Aircraft.Category</th>\n",
       "      <th>Make</th>\n",
       "      <th>Model</th>\n",
       "      <th>Number.of.Engines</th>\n",
       "      <th>Engine.Type</th>\n",
       "      <th>Purpose.of.flight</th>\n",
       "      <th>Total.Fatal.Injuries</th>\n",
       "      <th>Total.Serious.Injuries</th>\n",
       "      <th>Total.Minor.Injuries</th>\n",
       "      <th>Total.Uninjured</th>\n",
       "      <th>Broad.phase.of.flight</th>\n",
       "    </tr>\n",
       "  </thead>\n",
       "  <tbody>\n",
       "    <tr>\n",
       "      <th>8</th>\n",
       "      <td>20020909X01561</td>\n",
       "      <td>Accident</td>\n",
       "      <td>NYC82DA015</td>\n",
       "      <td>1/1/1982</td>\n",
       "      <td>United States</td>\n",
       "      <td>Non-Fatal</td>\n",
       "      <td>Substantial</td>\n",
       "      <td>Airplane</td>\n",
       "      <td>Cessna</td>\n",
       "      <td>401B</td>\n",
       "      <td>2.0</td>\n",
       "      <td>Reciprocating</td>\n",
       "      <td>Business</td>\n",
       "      <td>0.0</td>\n",
       "      <td>0.0</td>\n",
       "      <td>0.0</td>\n",
       "      <td>2.0</td>\n",
       "      <td>Landing</td>\n",
       "    </tr>\n",
       "    <tr>\n",
       "      <th>24</th>\n",
       "      <td>20020917X01905</td>\n",
       "      <td>Accident</td>\n",
       "      <td>DCA82AA008</td>\n",
       "      <td>1/3/1982</td>\n",
       "      <td>United States</td>\n",
       "      <td>Fatal(8)</td>\n",
       "      <td>Destroyed</td>\n",
       "      <td>Airplane</td>\n",
       "      <td>Cessna</td>\n",
       "      <td>414A</td>\n",
       "      <td>2.0</td>\n",
       "      <td>Reciprocating</td>\n",
       "      <td>Business</td>\n",
       "      <td>8.0</td>\n",
       "      <td>0.0</td>\n",
       "      <td>0.0</td>\n",
       "      <td>0.0</td>\n",
       "      <td>Approach</td>\n",
       "    </tr>\n",
       "    <tr>\n",
       "      <th>36</th>\n",
       "      <td>20020917X02304</td>\n",
       "      <td>Accident</td>\n",
       "      <td>LAX82FUM06</td>\n",
       "      <td>1/5/1982</td>\n",
       "      <td>United States</td>\n",
       "      <td>Fatal(3)</td>\n",
       "      <td>Destroyed</td>\n",
       "      <td>Airplane</td>\n",
       "      <td>Navion</td>\n",
       "      <td>A</td>\n",
       "      <td>1.0</td>\n",
       "      <td>Reciprocating</td>\n",
       "      <td>Business</td>\n",
       "      <td>3.0</td>\n",
       "      <td>0.0</td>\n",
       "      <td>0.0</td>\n",
       "      <td>0.0</td>\n",
       "      <td>Cruise</td>\n",
       "    </tr>\n",
       "    <tr>\n",
       "      <th>39</th>\n",
       "      <td>20020917X01993</td>\n",
       "      <td>Accident</td>\n",
       "      <td>FTW82DA037</td>\n",
       "      <td>1/5/1982</td>\n",
       "      <td>United States</td>\n",
       "      <td>Non-Fatal</td>\n",
       "      <td>Substantial</td>\n",
       "      <td>Airplane</td>\n",
       "      <td>Piper</td>\n",
       "      <td>PA-24-250</td>\n",
       "      <td>1.0</td>\n",
       "      <td>Reciprocating</td>\n",
       "      <td>Business</td>\n",
       "      <td>0.0</td>\n",
       "      <td>1.0</td>\n",
       "      <td>0.0</td>\n",
       "      <td>1.0</td>\n",
       "      <td>Descent</td>\n",
       "    </tr>\n",
       "    <tr>\n",
       "      <th>44</th>\n",
       "      <td>20020917X02157</td>\n",
       "      <td>Accident</td>\n",
       "      <td>LAX82DA039</td>\n",
       "      <td>1/6/1982</td>\n",
       "      <td>United States</td>\n",
       "      <td>Non-Fatal</td>\n",
       "      <td>Substantial</td>\n",
       "      <td>Helicopter</td>\n",
       "      <td>Aerospatiale</td>\n",
       "      <td>SA-316B</td>\n",
       "      <td>1.0</td>\n",
       "      <td>Turbo Shaft</td>\n",
       "      <td>Business</td>\n",
       "      <td>0.0</td>\n",
       "      <td>0.0</td>\n",
       "      <td>0.0</td>\n",
       "      <td>6.0</td>\n",
       "      <td>Taxi</td>\n",
       "    </tr>\n",
       "    <tr>\n",
       "      <th>...</th>\n",
       "      <td>...</td>\n",
       "      <td>...</td>\n",
       "      <td>...</td>\n",
       "      <td>...</td>\n",
       "      <td>...</td>\n",
       "      <td>...</td>\n",
       "      <td>...</td>\n",
       "      <td>...</td>\n",
       "      <td>...</td>\n",
       "      <td>...</td>\n",
       "      <td>...</td>\n",
       "      <td>...</td>\n",
       "      <td>...</td>\n",
       "      <td>...</td>\n",
       "      <td>...</td>\n",
       "      <td>...</td>\n",
       "      <td>...</td>\n",
       "      <td>...</td>\n",
       "    </tr>\n",
       "    <tr>\n",
       "      <th>84238</th>\n",
       "      <td>2.02206E+13</td>\n",
       "      <td>Accident</td>\n",
       "      <td>ANC22LA050</td>\n",
       "      <td>6/26/2022</td>\n",
       "      <td>United States</td>\n",
       "      <td>Non-Fatal</td>\n",
       "      <td>Substantial</td>\n",
       "      <td>Airplane</td>\n",
       "      <td>DEHAVILLAND</td>\n",
       "      <td>BEAVER U-6A</td>\n",
       "      <td>1.0</td>\n",
       "      <td>Reciprocating</td>\n",
       "      <td>Business</td>\n",
       "      <td>0.0</td>\n",
       "      <td>0.0</td>\n",
       "      <td>0.0</td>\n",
       "      <td>7.0</td>\n",
       "      <td>Landing</td>\n",
       "    </tr>\n",
       "    <tr>\n",
       "      <th>84320</th>\n",
       "      <td>2.02207E+13</td>\n",
       "      <td>Accident</td>\n",
       "      <td>WPR22LA272</td>\n",
       "      <td>7/13/2022</td>\n",
       "      <td>United States</td>\n",
       "      <td>Non-Fatal</td>\n",
       "      <td>Substantial</td>\n",
       "      <td>Airplane</td>\n",
       "      <td>PIPER AIRCRAFT CORPORATION</td>\n",
       "      <td>PA-60-601P</td>\n",
       "      <td>2.0</td>\n",
       "      <td>Reciprocating</td>\n",
       "      <td>Business</td>\n",
       "      <td>0.0</td>\n",
       "      <td>0.0</td>\n",
       "      <td>0.0</td>\n",
       "      <td>1.0</td>\n",
       "      <td>Landing</td>\n",
       "    </tr>\n",
       "    <tr>\n",
       "      <th>84326</th>\n",
       "      <td>2.02207E+13</td>\n",
       "      <td>Accident</td>\n",
       "      <td>CEN22LA320</td>\n",
       "      <td>7/14/2022</td>\n",
       "      <td>United States</td>\n",
       "      <td>Non-Fatal</td>\n",
       "      <td>Substantial</td>\n",
       "      <td>Airplane</td>\n",
       "      <td>CESSNA</td>\n",
       "      <td>210</td>\n",
       "      <td>1.0</td>\n",
       "      <td>Reciprocating</td>\n",
       "      <td>Business</td>\n",
       "      <td>0.0</td>\n",
       "      <td>0.0</td>\n",
       "      <td>0.0</td>\n",
       "      <td>4.0</td>\n",
       "      <td>Landing</td>\n",
       "    </tr>\n",
       "    <tr>\n",
       "      <th>84336</th>\n",
       "      <td>2.02207E+13</td>\n",
       "      <td>Accident</td>\n",
       "      <td>ANC22LA058</td>\n",
       "      <td>7/15/2022</td>\n",
       "      <td>United States</td>\n",
       "      <td>Non-Fatal</td>\n",
       "      <td>Substantial</td>\n",
       "      <td>Airplane</td>\n",
       "      <td>PIPER</td>\n",
       "      <td>PA-18-150</td>\n",
       "      <td>1.0</td>\n",
       "      <td>Reciprocating</td>\n",
       "      <td>Business</td>\n",
       "      <td>0.0</td>\n",
       "      <td>0.0</td>\n",
       "      <td>0.0</td>\n",
       "      <td>2.0</td>\n",
       "      <td>Landing</td>\n",
       "    </tr>\n",
       "    <tr>\n",
       "      <th>84337</th>\n",
       "      <td>2.02207E+13</td>\n",
       "      <td>Accident</td>\n",
       "      <td>ERA22LA325</td>\n",
       "      <td>7/15/2022</td>\n",
       "      <td>United States</td>\n",
       "      <td>Non-Fatal</td>\n",
       "      <td>Substantial</td>\n",
       "      <td>Airplane</td>\n",
       "      <td>RAYTHEON AIRCRAFT COMPANY</td>\n",
       "      <td>400A</td>\n",
       "      <td>2.0</td>\n",
       "      <td>Turbo Fan</td>\n",
       "      <td>Business</td>\n",
       "      <td>0.0</td>\n",
       "      <td>0.0</td>\n",
       "      <td>0.0</td>\n",
       "      <td>2.0</td>\n",
       "      <td>Landing</td>\n",
       "    </tr>\n",
       "  </tbody>\n",
       "</table>\n",
       "<p>3600 rows × 18 columns</p>\n",
       "</div>"
      ],
      "text/plain": [
       "             Event.Id Investigation.Type Accident.Number Event.Date  \\\n",
       "8      20020909X01561           Accident      NYC82DA015   1/1/1982   \n",
       "24     20020917X01905           Accident      DCA82AA008   1/3/1982   \n",
       "36     20020917X02304           Accident      LAX82FUM06   1/5/1982   \n",
       "39     20020917X01993           Accident      FTW82DA037   1/5/1982   \n",
       "44     20020917X02157           Accident      LAX82DA039   1/6/1982   \n",
       "...               ...                ...             ...        ...   \n",
       "84238     2.02206E+13           Accident      ANC22LA050  6/26/2022   \n",
       "84320     2.02207E+13           Accident      WPR22LA272  7/13/2022   \n",
       "84326     2.02207E+13           Accident      CEN22LA320  7/14/2022   \n",
       "84336     2.02207E+13           Accident      ANC22LA058  7/15/2022   \n",
       "84337     2.02207E+13           Accident      ERA22LA325  7/15/2022   \n",
       "\n",
       "             Country Injury.Severity Aircraft.damage Aircraft.Category  \\\n",
       "8      United States       Non-Fatal     Substantial          Airplane   \n",
       "24     United States        Fatal(8)       Destroyed          Airplane   \n",
       "36     United States        Fatal(3)       Destroyed          Airplane   \n",
       "39     United States       Non-Fatal     Substantial          Airplane   \n",
       "44     United States       Non-Fatal     Substantial        Helicopter   \n",
       "...              ...             ...             ...               ...   \n",
       "84238  United States       Non-Fatal     Substantial          Airplane   \n",
       "84320  United States       Non-Fatal     Substantial          Airplane   \n",
       "84326  United States       Non-Fatal     Substantial          Airplane   \n",
       "84336  United States       Non-Fatal     Substantial          Airplane   \n",
       "84337  United States       Non-Fatal     Substantial          Airplane   \n",
       "\n",
       "                             Make        Model  Number.of.Engines  \\\n",
       "8                          Cessna         401B                2.0   \n",
       "24                         Cessna         414A                2.0   \n",
       "36                         Navion            A                1.0   \n",
       "39                          Piper    PA-24-250                1.0   \n",
       "44                   Aerospatiale      SA-316B                1.0   \n",
       "...                           ...          ...                ...   \n",
       "84238                 DEHAVILLAND  BEAVER U-6A                1.0   \n",
       "84320  PIPER AIRCRAFT CORPORATION   PA-60-601P                2.0   \n",
       "84326                      CESSNA          210                1.0   \n",
       "84336                       PIPER    PA-18-150                1.0   \n",
       "84337   RAYTHEON AIRCRAFT COMPANY         400A                2.0   \n",
       "\n",
       "         Engine.Type Purpose.of.flight  Total.Fatal.Injuries  \\\n",
       "8      Reciprocating          Business                   0.0   \n",
       "24     Reciprocating          Business                   8.0   \n",
       "36     Reciprocating          Business                   3.0   \n",
       "39     Reciprocating          Business                   0.0   \n",
       "44       Turbo Shaft          Business                   0.0   \n",
       "...              ...               ...                   ...   \n",
       "84238  Reciprocating          Business                   0.0   \n",
       "84320  Reciprocating          Business                   0.0   \n",
       "84326  Reciprocating          Business                   0.0   \n",
       "84336  Reciprocating          Business                   0.0   \n",
       "84337      Turbo Fan          Business                   0.0   \n",
       "\n",
       "       Total.Serious.Injuries  Total.Minor.Injuries  Total.Uninjured  \\\n",
       "8                         0.0                   0.0              2.0   \n",
       "24                        0.0                   0.0              0.0   \n",
       "36                        0.0                   0.0              0.0   \n",
       "39                        1.0                   0.0              1.0   \n",
       "44                        0.0                   0.0              6.0   \n",
       "...                       ...                   ...              ...   \n",
       "84238                     0.0                   0.0              7.0   \n",
       "84320                     0.0                   0.0              1.0   \n",
       "84326                     0.0                   0.0              4.0   \n",
       "84336                     0.0                   0.0              2.0   \n",
       "84337                     0.0                   0.0              2.0   \n",
       "\n",
       "      Broad.phase.of.flight  \n",
       "8                   Landing  \n",
       "24                 Approach  \n",
       "36                   Cruise  \n",
       "39                  Descent  \n",
       "44                     Taxi  \n",
       "...                     ...  \n",
       "84238               Landing  \n",
       "84320               Landing  \n",
       "84326               Landing  \n",
       "84336               Landing  \n",
       "84337               Landing  \n",
       "\n",
       "[3600 rows x 18 columns]"
      ]
     },
     "execution_count": 582,
     "metadata": {},
     "output_type": "execute_result"
    }
   ],
   "source": [
    "#total count of missing values\n",
    "df_Accidents.isnull().values.sum()\n",
    "df_Accidents"
   ]
  },
  {
   "cell_type": "code",
   "execution_count": 584,
   "id": "faf0aaa8-222c-428d-a7b9-d623c32715aa",
   "metadata": {},
   "outputs": [
    {
     "name": "stdout",
     "output_type": "stream",
     "text": [
      "       Number.of.Engines  Total.Fatal.Injuries  Total.Serious.Injuries  \\\n",
      "count        3600.000000           3600.000000             3600.000000   \n",
      "mean            1.265556              0.588627                0.225557   \n",
      "std             0.490003              1.121729                0.637917   \n",
      "min             0.000000              0.000000                0.000000   \n",
      "25%             1.000000              0.000000                0.000000   \n",
      "50%             1.000000              0.000000                0.000000   \n",
      "75%             2.000000              1.000000                0.000000   \n",
      "max             8.000000             14.000000               13.000000   \n",
      "\n",
      "       Total.Minor.Injuries  Total.Uninjured  \n",
      "count           3600.000000      3600.000000  \n",
      "mean               0.295455         1.314460  \n",
      "std                0.788528         1.628999  \n",
      "min                0.000000         0.000000  \n",
      "25%                0.000000         0.000000  \n",
      "50%                0.000000         1.000000  \n",
      "75%                0.295455         2.000000  \n",
      "max               17.000000        17.000000  \n"
     ]
    }
   ],
   "source": [
    "#summary statistics\n",
    "print(df_Accidents.describe())"
   ]
  },
  {
   "cell_type": "markdown",
   "id": "9c4dc65e-de8f-461b-b169-d95989e7ece7",
   "metadata": {},
   "source": [
    "## Visualisation"
   ]
  },
  {
   "cell_type": "markdown",
   "id": "67c63b8d-25d2-4548-ad70-e71337cbcb30",
   "metadata": {},
   "source": [
    "1. Visualize which aircraft make and models are most frequently involved in accidents."
   ]
  },
  {
   "cell_type": "code",
   "execution_count": 588,
   "id": "81b5892e-07a2-4ddb-a4e8-99f798fc6b48",
   "metadata": {},
   "outputs": [
    {
     "data": {
      "image/png": "[encoded data removed]",
      "text/plain": [
       "<Figure size 1000x600 with 1 Axes>"
      ]
     },
     "metadata": {},
     "output_type": "display_data"
    }
   ],
   "source": [
    "\n",
    "#Group by aircraft make and model to count the number of accidents\n",
    "accidents_by_model =  df_Accidents.groupby(['Make','Model']).size().sort_values(ascending=False).head(10)\n",
    "\n",
    "#Plot the top 10 aircraft models involved in accidents\n",
    "plt.figure(figsize=(10,6))\n",
    "accidents_by_model.plot(kind='bar', color='skyblue')\n",
    "plt.title('Top 10 Aircraft Models Involved in Accidents')\n",
    "plt.xlabel('Aircraft Make and Model')\n",
    "plt.ylabel('Number of Accidents')\n",
    "plt.xticks(rotation=45, ha='right')\n",
    "plt.tight_layout()\n",
    "plt.show()\n"
   ]
  },
  {
   "cell_type": "markdown",
   "id": "dbf93075-8b00-4c73-bb7c-01bdbaa8576b",
   "metadata": {},
   "source": [
    "2. Analyze how the severity of accidents varies"
   ]
  },
  {
   "cell_type": "code",
   "execution_count": 591,
   "id": "32223149-82a6-4403-8f9e-ee65e83f5323",
   "metadata": {},
   "outputs": [
    {
     "data": {
      "image/png": "[encoded data removed]",
      "text/plain": [
       "<Figure size 1200x800 with 1 Axes>"
      ]
     },
     "metadata": {},
     "output_type": "display_data"
    }
   ],
   "source": [
    "#group by phases of flights\n",
    "severity_by_phase = df_Accidents.groupby(['Broad.phase.of.flight', 'Injury.Severity']).size().unstack()\n",
    "\n",
    "#plot the severity by phases of flights\n",
    "severity_by_phase.plot(kind='bar', stacked=True, figsize=(12, 8), color=['pink', 'brown', 'green'])\n",
    "plt.title('Injury Severity by Phase of Flight')\n",
    "plt.xlabel('Phase of Flight')\n",
    "plt.ylabel('Number of Accidents')\n",
    "plt.xticks(rotation=45, ha='right')\n",
    "plt.legend(title='Injury Severity')\n",
    "plt.tight_layout()\n",
    "plt.show()\n"
   ]
  },
  {
   "cell_type": "code",
   "execution_count": 593,
   "id": "9bd92dcf-1df6-4be0-a4e4-6cce57e724eb",
   "metadata": {},
   "outputs": [
    {
     "data": {
      "image/png": "[encoded data removed]",
      "text/plain": [
       "<Figure size 1000x600 with 1 Axes>"
      ]
     },
     "metadata": {},
     "output_type": "display_data"
    }
   ],
   "source": [
    "#group by aircraft make and model\n",
    "fatalities_per_accident = df_Accidents.groupby(['Make', 'Model', 'Injury.Severity']).size().sort_values(ascending=False).head(10)\n",
    "\n",
    "#plot the severity by aircraft make and model\n",
    "plt.figure(figsize=(10,6))\n",
    "fatalities_per_accident.plot(kind='bar', color='skyblue')\n",
    "plt.title('Top 10 aircraft models by Number of Fatalities')\n",
    "plt.xlabel('Aircraft Make and Model')\n",
    "plt.ylabel('Number of Accidents')\n",
    "plt.xticks(rotation=45, ha='right')\n",
    "plt.tight_layout()\n",
    "plt.show()"
   ]
  },
  {
   "cell_type": "markdown",
   "id": "c3ce1bc3-7257-4610-88d7-7414c56220e8",
   "metadata": {},
   "source": [
    "3. Visualize which aircraft category is most frequently involved in accidents"
   ]
  },
  {
   "cell_type": "code",
   "execution_count": 596,
   "id": "85909a29-ec2c-4243-9b01-f5c3cb2d73d1",
   "metadata": {},
   "outputs": [
    {
     "data": {
      "image/png": "[encoded data removed]",
      "text/plain": [
       "<Figure size 1000x600 with 1 Axes>"
      ]
     },
     "metadata": {},
     "output_type": "display_data"
    }
   ],
   "source": [
    "#group by aircraft category to find the frequency of accidents\n",
    "accidents_by_category = df_Accidents['Aircraft.Category'].value_counts()\n",
    "\n",
    "#plot the graph\n",
    "plt.figure(figsize=(10,6))\n",
    "sns.barplot(x=accidents_by_category.index, y=accidents_by_category.values, log=True)\n",
    "plt.title('Aircraft Category Most Frequently Involved in Accidents')\n",
    "plt.xlabel('Aircraft Category')\n",
    "plt.ylabel('Number of Accidents')\n",
    "plt.xticks(rotation=45)\n",
    "plt.show()\n"
   ]
  },
  {
   "cell_type": "markdown",
   "id": "73034e68-db10-42ea-911a-cafbf1580765",
   "metadata": {},
   "source": [
    "4. Visualize between the aircraft damage and number of injuries (either fatal, seriuos, minor or uninjured)"
   ]
  },
  {
   "cell_type": "code",
   "execution_count": 599,
   "id": "05cb5716-634b-4cc9-876a-3c53bc44b561",
   "metadata": {},
   "outputs": [
    {
     "data": {
      "application/vnd.plotly.v1+json": {
       "config": {
        "plotlyServerURL": "https://plot.ly"
       },
       "data": [
        {
         "alignmentgroup": "True",
         "hovertemplate": "Injury Type=Total.Fatal.Injuries<br>Aircraft.damage=%{x}<br>Number of Injuries=%{y}<extra></extra>",
         "legendgroup": "Total.Fatal.Injuries",
         "marker": {
          "color": "#636efa",
          "pattern": {
           "shape": ""
          }
         },
         "name": "Total.Fatal.Injuries",
         "offsetgroup": "Total.Fatal.Injuries",
         "orientation": "v",
         "showlegend": true,
         "textposition": "auto",
         "type": "bar",
         "x": [
          "Destroyed",
          "Minor",
          "Substantial"
         ],
         "xaxis": "x",
         "y": [
          1732.4748941318815,
          4.177253478523896,
          382.40411373260736
         ],
         "yaxis": "y"
        },
        {
         "alignmentgroup": "True",
         "hovertemplate": "Injury Type=Total.Serious.Injuries<br>Aircraft.damage=%{x}<br>Number of Injuries=%{y}<extra></extra>",
         "legendgroup": "Total.Serious.Injuries",
         "marker": {
          "color": "#EF553B",
          "pattern": {
           "shape": ""
          }
         },
         "name": "Total.Serious.Injuries",
         "offsetgroup": "Total.Serious.Injuries",
         "orientation": "v",
         "showlegend": true,
         "textposition": "auto",
         "type": "bar",
         "x": [
          "Destroyed",
          "Minor",
          "Substantial"
         ],
         "xaxis": "x",
         "y": [
          295.8189975247525,
          7.451113861386139,
          508.7348391089109
         ],
         "yaxis": "y"
        },
        {
         "alignmentgroup": "True",
         "hovertemplate": "Injury Type=Total.Minor.Injuries<br>Aircraft.damage=%{x}<br>Number of Injuries=%{y}<extra></extra>",
         "legendgroup": "Total.Minor.Injuries",
         "marker": {
          "color": "#00cc96",
          "pattern": {
           "shape": ""
          }
         },
         "name": "Total.Minor.Injuries",
         "offsetgroup": "Total.Minor.Injuries",
         "orientation": "v",
         "showlegend": true,
         "textposition": "auto",
         "type": "bar",
         "x": [
          "Destroyed",
          "Minor",
          "Substantial"
         ],
         "xaxis": "x",
         "y": [
          258.29545454545456,
          4.590909090909091,
          800.75
         ],
         "yaxis": "y"
        },
        {
         "alignmentgroup": "True",
         "hovertemplate": "Injury Type=Total.Uninjured<br>Aircraft.damage=%{x}<br>Number of Injuries=%{y}<extra></extra>",
         "legendgroup": "Total.Uninjured",
         "marker": {
          "color": "#ab63fa",
          "pattern": {
           "shape": ""
          }
         },
         "name": "Total.Uninjured",
         "offsetgroup": "Total.Uninjured",
         "orientation": "v",
         "showlegend": true,
         "textposition": "auto",
         "type": "bar",
         "x": [
          "Destroyed",
          "Minor",
          "Substantial"
         ],
         "xaxis": "x",
         "y": [
          336.67247386759584,
          91,
          4304.383275261324
         ],
         "yaxis": "y"
        }
       ],
       "layout": {
        "autosize": true,
        "barmode": "relative",
        "legend": {
         "title": {
          "text": "Injury Type"
         },
         "tracegroupgap": 0
        },
        "template": {
         "data": {
          "bar": [
           {
            "error_x": {
             "color": "#2a3f5f"
            },
            "error_y": {
             "color": "#2a3f5f"
            },
            "marker": {
             "line": {
              "color": "#E5ECF6",
              "width": 0.5
             },
             "pattern": {
              "fillmode": "overlay",
              "size": 10,
              "solidity": 0.2
             }
            },
            "type": "bar"
           }
          ],
          "barpolar": [
           {
            "marker": {
             "line": {
              "color": "#E5ECF6",
              "width": 0.5
             },
             "pattern": {
              "fillmode": "overlay",
              "size": 10,
              "solidity": 0.2
             }
            },
            "type": "barpolar"
           }
          ],
          "carpet": [
           {
            "aaxis": {
             "endlinecolor": "#2a3f5f",
             "gridcolor": "white",
             "linecolor": "white",
             "minorgridcolor": "white",
             "startlinecolor": "#2a3f5f"
            },
            "baxis": {
             "endlinecolor": "#2a3f5f",
             "gridcolor": "white",
             "linecolor": "white",
             "minorgridcolor": "white",
             "startlinecolor": "#2a3f5f"
            },
            "type": "carpet"
           }
          ],
          "choropleth": [
           {
            "colorbar": {
             "outlinewidth": 0,
             "ticks": ""
            },
            "type": "choropleth"
           }
          ],
          "contour": [
           {
            "colorbar": {
             "outlinewidth": 0,
             "ticks": ""
            },
            "colorscale": [
             [
              0,
              "#0d0887"
             ],
             [
              0.1111111111111111,
              "#46039f"
             ],
             [
              0.2222222222222222,
              "#7201a8"
             ],
             [
              0.3333333333333333,
              "#9c179e"
             ],
             [
              0.4444444444444444,
              "#bd3786"
             ],
             [
              0.5555555555555556,
              "#d8576b"
             ],
             [
              0.6666666666666666,
              "#ed7953"
             ],
             [
              0.7777777777777778,
              "#fb9f3a"
             ],
             [
              0.8888888888888888,
              "#fdca26"
             ],
             [
              1,
              "#f0f921"
             ]
            ],
            "type": "contour"
           }
          ],
          "contourcarpet": [
           {
            "colorbar": {
             "outlinewidth": 0,
             "ticks": ""
            },
            "type": "contourcarpet"
           }
          ],
          "heatmap": [
           {
            "colorbar": {
             "outlinewidth": 0,
             "ticks": ""
            },
            "colorscale": [
             [
              0,
              "#0d0887"
             ],
             [
              0.1111111111111111,
              "#46039f"
             ],
             [
              0.2222222222222222,
              "#7201a8"
             ],
             [
              0.3333333333333333,
              "#9c179e"
             ],
             [
              0.4444444444444444,
              "#bd3786"
             ],
             [
              0.5555555555555556,
              "#d8576b"
             ],
             [
              0.6666666666666666,
              "#ed7953"
             ],
             [
              0.7777777777777778,
              "#fb9f3a"
             ],
             [
              0.8888888888888888,
              "#fdca26"
             ],
             [
              1,
              "#f0f921"
             ]
            ],
            "type": "heatmap"
           }
          ],
          "heatmapgl": [
           {
            "colorbar": {
             "outlinewidth": 0,
             "ticks": ""
            },
            "colorscale": [
             [
              0,
              "#0d0887"
             ],
             [
              0.1111111111111111,
              "#46039f"
             ],
             [
              0.2222222222222222,
              "#7201a8"
             ],
             [
              0.3333333333333333,
              "#9c179e"
             ],
             [
              0.4444444444444444,
              "#bd3786"
             ],
             [
              0.5555555555555556,
              "#d8576b"
             ],
             [
              0.6666666666666666,
              "#ed7953"
             ],
             [
              0.7777777777777778,
              "#fb9f3a"
             ],
             [
              0.8888888888888888,
              "#fdca26"
             ],
             [
              1,
              "#f0f921"
             ]
            ],
            "type": "heatmapgl"
           }
          ],
          "histogram": [
           {
            "marker": {
             "pattern": {
              "fillmode": "overlay",
              "size": 10,
              "solidity": 0.2
             }
            },
            "type": "histogram"
           }
          ],
          "histogram2d": [
           {
            "colorbar": {
             "outlinewidth": 0,
             "ticks": ""
            },
            "colorscale": [
             [
              0,
              "#0d0887"
             ],
             [
              0.1111111111111111,
              "#46039f"
             ],
             [
              0.2222222222222222,
              "#7201a8"
             ],
             [
              0.3333333333333333,
              "#9c179e"
             ],
             [
              0.4444444444444444,
              "#bd3786"
             ],
             [
              0.5555555555555556,
              "#d8576b"
             ],
             [
              0.6666666666666666,
              "#ed7953"
             ],
             [
              0.7777777777777778,
              "#fb9f3a"
             ],
             [
              0.8888888888888888,
              "#fdca26"
             ],
             [
              1,
              "#f0f921"
             ]
            ],
            "type": "histogram2d"
           }
          ],
          "histogram2dcontour": [
           {
            "colorbar": {
             "outlinewidth": 0,
             "ticks": ""
            },
            "colorscale": [
             [
              0,
              "#0d0887"
             ],
             [
              0.1111111111111111,
              "#46039f"
             ],
             [
              0.2222222222222222,
              "#7201a8"
             ],
             [
              0.3333333333333333,
              "#9c179e"
             ],
             [
              0.4444444444444444,
              "#bd3786"
             ],
             [
              0.5555555555555556,
              "#d8576b"
             ],
             [
              0.6666666666666666,
              "#ed7953"
             ],
             [
              0.7777777777777778,
              "#fb9f3a"
             ],
             [
              0.8888888888888888,
              "#fdca26"
             ],
             [
              1,
              "#f0f921"
             ]
            ],
            "type": "histogram2dcontour"
           }
          ],
          "mesh3d": [
           {
            "colorbar": {
             "outlinewidth": 0,
             "ticks": ""
            },
            "type": "mesh3d"
           }
          ],
          "parcoords": [
           {
            "line": {
             "colorbar": {
              "outlinewidth": 0,
              "ticks": ""
             }
            },
            "type": "parcoords"
           }
          ],
          "pie": [
           {
            "automargin": true,
            "type": "pie"
           }
          ],
          "scatter": [
           {
            "fillpattern": {
             "fillmode": "overlay",
             "size": 10,
             "solidity": 0.2
            },
            "type": "scatter"
           }
          ],
          "scatter3d": [
           {
            "line": {
             "colorbar": {
              "outlinewidth": 0,
              "ticks": ""
             }
            },
            "marker": {
             "colorbar": {
              "outlinewidth": 0,
              "ticks": ""
             }
            },
            "type": "scatter3d"
           }
          ],
          "scattercarpet": [
           {
            "marker": {
             "colorbar": {
              "outlinewidth": 0,
              "ticks": ""
             }
            },
            "type": "scattercarpet"
           }
          ],
          "scattergeo": [
           {
            "marker": {
             "colorbar": {
              "outlinewidth": 0,
              "ticks": ""
             }
            },
            "type": "scattergeo"
           }
          ],
          "scattergl": [
           {
            "marker": {
             "colorbar": {
              "outlinewidth": 0,
              "ticks": ""
             }
            },
            "type": "scattergl"
           }
          ],
          "scattermapbox": [
           {
            "marker": {
             "colorbar": {
              "outlinewidth": 0,
              "ticks": ""
             }
            },
            "type": "scattermapbox"
           }
          ],
          "scatterpolar": [
           {
            "marker": {
             "colorbar": {
              "outlinewidth": 0,
              "ticks": ""
             }
            },
            "type": "scatterpolar"
           }
          ],
          "scatterpolargl": [
           {
            "marker": {
             "colorbar": {
              "outlinewidth": 0,
              "ticks": ""
             }
            },
            "type": "scatterpolargl"
           }
          ],
          "scatterternary": [
           {
            "marker": {
             "colorbar": {
              "outlinewidth": 0,
              "ticks": ""
             }
            },
            "type": "scatterternary"
           }
          ],
          "surface": [
           {
            "colorbar": {
             "outlinewidth": 0,
             "ticks": ""
            },
            "colorscale": [
             [
              0,
              "#0d0887"
             ],
             [
              0.1111111111111111,
              "#46039f"
             ],
             [
              0.2222222222222222,
              "#7201a8"
             ],
             [
              0.3333333333333333,
              "#9c179e"
             ],
             [
              0.4444444444444444,
              "#bd3786"
             ],
             [
              0.5555555555555556,
              "#d8576b"
             ],
             [
              0.6666666666666666,
              "#ed7953"
             ],
             [
              0.7777777777777778,
              "#fb9f3a"
             ],
             [
              0.8888888888888888,
              "#fdca26"
             ],
             [
              1,
              "#f0f921"
             ]
            ],
            "type": "surface"
           }
          ],
          "table": [
           {
            "cells": {
             "fill": {
              "color": "#EBF0F8"
             },
             "line": {
              "color": "white"
             }
            },
            "header": {
             "fill": {
              "color": "#C8D4E3"
             },
             "line": {
              "color": "white"
             }
            },
            "type": "table"
           }
          ]
         },
         "layout": {
          "annotationdefaults": {
           "arrowcolor": "#2a3f5f",
           "arrowhead": 0,
           "arrowwidth": 1
          },
          "autotypenumbers": "strict",
          "coloraxis": {
           "colorbar": {
            "outlinewidth": 0,
            "ticks": ""
           }
          },
          "colorscale": {
           "diverging": [
            [
             0,
             "#8e0152"
            ],
            [
             0.1,
             "#c51b7d"
            ],
            [
             0.2,
             "#de77ae"
            ],
            [
             0.3,
             "#f1b6da"
            ],
            [
             0.4,
             "#fde0ef"
            ],
            [
             0.5,
             "#f7f7f7"
            ],
            [
             0.6,
             "#e6f5d0"
            ],
            [
             0.7,
             "#b8e186"
            ],
            [
             0.8,
             "#7fbc41"
            ],
            [
             0.9,
             "#4d9221"
            ],
            [
             1,
             "#276419"
            ]
           ],
           "sequential": [
            [
             0,
             "#0d0887"
            ],
            [
             0.1111111111111111,
             "#46039f"
            ],
            [
             0.2222222222222222,
             "#7201a8"
            ],
            [
             0.3333333333333333,
             "#9c179e"
            ],
            [
             0.4444444444444444,
             "#bd3786"
            ],
            [
             0.5555555555555556,
             "#d8576b"
            ],
            [
             0.6666666666666666,
             "#ed7953"
            ],
            [
             0.7777777777777778,
             "#fb9f3a"
            ],
            [
             0.8888888888888888,
             "#fdca26"
            ],
            [
             1,
             "#f0f921"
            ]
           ],
           "sequentialminus": [
            [
             0,
             "#0d0887"
            ],
            [
             0.1111111111111111,
             "#46039f"
            ],
            [
             0.2222222222222222,
             "#7201a8"
            ],
            [
             0.3333333333333333,
             "#9c179e"
            ],
            [
             0.4444444444444444,
             "#bd3786"
            ],
            [
             0.5555555555555556,
             "#d8576b"
            ],
            [
             0.6666666666666666,
             "#ed7953"
            ],
            [
             0.7777777777777778,
             "#fb9f3a"
            ],
            [
             0.8888888888888888,
             "#fdca26"
            ],
            [
             1,
             "#f0f921"
            ]
           ]
          },
          "colorway": [
           "#636efa",
           "#EF553B",
           "#00cc96",
           "#ab63fa",
           "#FFA15A",
           "#19d3f3",
           "#FF6692",
           "#B6E880",
           "#FF97FF",
           "#FECB52"
          ],
          "font": {
           "color": "#2a3f5f"
          },
          "geo": {
           "bgcolor": "white",
           "lakecolor": "white",
           "landcolor": "#E5ECF6",
           "showlakes": true,
           "showland": true,
           "subunitcolor": "white"
          },
          "hoverlabel": {
           "align": "left"
          },
          "hovermode": "closest",
          "mapbox": {
           "style": "light"
          },
          "paper_bgcolor": "white",
          "plot_bgcolor": "#E5ECF6",
          "polar": {
           "angularaxis": {
            "gridcolor": "white",
            "linecolor": "white",
            "ticks": ""
           },
           "bgcolor": "#E5ECF6",
           "radialaxis": {
            "gridcolor": "white",
            "linecolor": "white",
            "ticks": ""
           }
          },
          "scene": {
           "xaxis": {
            "backgroundcolor": "#E5ECF6",
            "gridcolor": "white",
            "gridwidth": 2,
            "linecolor": "white",
            "showbackground": true,
            "ticks": "",
            "zerolinecolor": "white"
           },
           "yaxis": {
            "backgroundcolor": "#E5ECF6",
            "gridcolor": "white",
            "gridwidth": 2,
            "linecolor": "white",
            "showbackground": true,
            "ticks": "",
            "zerolinecolor": "white"
           },
           "zaxis": {
            "backgroundcolor": "#E5ECF6",
            "gridcolor": "white",
            "gridwidth": 2,
            "linecolor": "white",
            "showbackground": true,
            "ticks": "",
            "zerolinecolor": "white"
           }
          },
          "shapedefaults": {
           "line": {
            "color": "#2a3f5f"
           }
          },
          "ternary": {
           "aaxis": {
            "gridcolor": "white",
            "linecolor": "white",
            "ticks": ""
           },
           "baxis": {
            "gridcolor": "white",
            "linecolor": "white",
            "ticks": ""
           },
           "bgcolor": "#E5ECF6",
           "caxis": {
            "gridcolor": "white",
            "linecolor": "white",
            "ticks": ""
           }
          },
          "title": {
           "x": 0.05
          },
          "xaxis": {
           "automargin": true,
           "gridcolor": "white",
           "linecolor": "white",
           "ticks": "",
           "title": {
            "standoff": 15
           },
           "zerolinecolor": "white",
           "zerolinewidth": 2
          },
          "yaxis": {
           "automargin": true,
           "gridcolor": "white",
           "linecolor": "white",
           "ticks": "",
           "title": {
            "standoff": 15
           },
           "zerolinecolor": "white",
           "zerolinewidth": 2
          }
         }
        },
        "title": {
         "text": "Injuries by Aircraft Damage Type"
        },
        "xaxis": {
         "anchor": "y",
         "autorange": true,
         "domain": [
          0,
          1
         ],
         "range": [
          -0.5,
          2.5
         ],
         "title": {
          "text": "Aircraft.damage"
         },
         "type": "category"
        },
        "yaxis": {
         "anchor": "x",
         "autorange": true,
         "domain": [
          0,
          1
         ],
         "range": [
          0,
          6311.86550326615
         ],
         "title": {
          "text": "Number of Injuries"
         },
         "type": "linear"
        }
       }
      },
      "image/png": "[encoded data removed]",
      "text/html": [
       "<div>                            <div id=\"26ca2b73-b567-496e-836a-d8c39d278b1c\" class=\"plotly-graph-div\" style=\"height:525px; width:100%;\"></div>            <script type=\"text/javascript\">                require([\"plotly\"], function(Plotly) {                    window.PLOTLYENV=window.PLOTLYENV || {};                                    if (document.getElementById(\"26ca2b73-b567-496e-836a-d8c39d278b1c\")) {                    Plotly.newPlot(                        \"26ca2b73-b567-496e-836a-d8c39d278b1c\",                        [{\"alignmentgroup\":\"True\",\"hovertemplate\":\"Injury Type=Total.Fatal.Injuries<br>Aircraft.damage=%{x}<br>Number of Injuries=%{y}<extra></extra>\",\"legendgroup\":\"Total.Fatal.Injuries\",\"marker\":{\"color\":\"#636efa\",\"pattern\":{\"shape\":\"\"}},\"name\":\"Total.Fatal.Injuries\",\"offsetgroup\":\"Total.Fatal.Injuries\",\"orientation\":\"v\",\"showlegend\":true,\"textposition\":\"auto\",\"x\":[\"Destroyed\",\"Minor\",\"Substantial\"],\"xaxis\":\"x\",\"y\":[1732.4748941318815,4.177253478523896,382.40411373260736],\"yaxis\":\"y\",\"type\":\"bar\"},{\"alignmentgroup\":\"True\",\"hovertemplate\":\"Injury Type=Total.Serious.Injuries<br>Aircraft.damage=%{x}<br>Number of Injuries=%{y}<extra></extra>\",\"legendgroup\":\"Total.Serious.Injuries\",\"marker\":{\"color\":\"#EF553B\",\"pattern\":{\"shape\":\"\"}},\"name\":\"Total.Serious.Injuries\",\"offsetgroup\":\"Total.Serious.Injuries\",\"orientation\":\"v\",\"showlegend\":true,\"textposition\":\"auto\",\"x\":[\"Destroyed\",\"Minor\",\"Substantial\"],\"xaxis\":\"x\",\"y\":[295.8189975247525,7.451113861386139,508.7348391089109],\"yaxis\":\"y\",\"type\":\"bar\"},{\"alignmentgroup\":\"True\",\"hovertemplate\":\"Injury Type=Total.Minor.Injuries<br>Aircraft.damage=%{x}<br>Number of Injuries=%{y}<extra></extra>\",\"legendgroup\":\"Total.Minor.Injuries\",\"marker\":{\"color\":\"#00cc96\",\"pattern\":{\"shape\":\"\"}},\"name\":\"Total.Minor.Injuries\",\"offsetgroup\":\"Total.Minor.Injuries\",\"orientation\":\"v\",\"showlegend\":true,\"textposition\":\"auto\",\"x\":[\"Destroyed\",\"Minor\",\"Substantial\"],\"xaxis\":\"x\",\"y\":[258.29545454545456,4.590909090909091,800.75],\"yaxis\":\"y\",\"type\":\"bar\"},{\"alignmentgroup\":\"True\",\"hovertemplate\":\"Injury Type=Total.Uninjured<br>Aircraft.damage=%{x}<br>Number of Injuries=%{y}<extra></extra>\",\"legendgroup\":\"Total.Uninjured\",\"marker\":{\"color\":\"#ab63fa\",\"pattern\":{\"shape\":\"\"}},\"name\":\"Total.Uninjured\",\"offsetgroup\":\"Total.Uninjured\",\"orientation\":\"v\",\"showlegend\":true,\"textposition\":\"auto\",\"x\":[\"Destroyed\",\"Minor\",\"Substantial\"],\"xaxis\":\"x\",\"y\":[336.67247386759584,91.0,4304.383275261324],\"yaxis\":\"y\",\"type\":\"bar\"}],                        {\"template\":{\"data\":{\"histogram2dcontour\":[{\"type\":\"histogram2dcontour\",\"colorbar\":{\"outlinewidth\":0,\"ticks\":\"\"},\"colorscale\":[[0.0,\"#0d0887\"],[0.1111111111111111,\"#46039f\"],[0.2222222222222222,\"#7201a8\"],[0.3333333333333333,\"#9c179e\"],[0.4444444444444444,\"#bd3786\"],[0.5555555555555556,\"#d8576b\"],[0.6666666666666666,\"#ed7953\"],[0.7777777777777778,\"#fb9f3a\"],[0.8888888888888888,\"#fdca26\"],[1.0,\"#f0f921\"]]}],\"choropleth\":[{\"type\":\"choropleth\",\"colorbar\":{\"outlinewidth\":0,\"ticks\":\"\"}}],\"histogram2d\":[{\"type\":\"histogram2d\",\"colorbar\":{\"outlinewidth\":0,\"ticks\":\"\"},\"colorscale\":[[0.0,\"#0d0887\"],[0.1111111111111111,\"#46039f\"],[0.2222222222222222,\"#7201a8\"],[0.3333333333333333,\"#9c179e\"],[0.4444444444444444,\"#bd3786\"],[0.5555555555555556,\"#d8576b\"],[0.6666666666666666,\"#ed7953\"],[0.7777777777777778,\"#fb9f3a\"],[0.8888888888888888,\"#fdca26\"],[1.0,\"#f0f921\"]]}],\"heatmap\":[{\"type\":\"heatmap\",\"colorbar\":{\"outlinewidth\":0,\"ticks\":\"\"},\"colorscale\":[[0.0,\"#0d0887\"],[0.1111111111111111,\"#46039f\"],[0.2222222222222222,\"#7201a8\"],[0.3333333333333333,\"#9c179e\"],[0.4444444444444444,\"#bd3786\"],[0.5555555555555556,\"#d8576b\"],[0.6666666666666666,\"#ed7953\"],[0.7777777777777778,\"#fb9f3a\"],[0.8888888888888888,\"#fdca26\"],[1.0,\"#f0f921\"]]}],\"heatmapgl\":[{\"type\":\"heatmapgl\",\"colorbar\":{\"outlinewidth\":0,\"ticks\":\"\"},\"colorscale\":[[0.0,\"#0d0887\"],[0.1111111111111111,\"#46039f\"],[0.2222222222222222,\"#7201a8\"],[0.3333333333333333,\"#9c179e\"],[0.4444444444444444,\"#bd3786\"],[0.5555555555555556,\"#d8576b\"],[0.6666666666666666,\"#ed7953\"],[0.7777777777777778,\"#fb9f3a\"],[0.8888888888888888,\"#fdca26\"],[1.0,\"#f0f921\"]]}],\"contourcarpet\":[{\"type\":\"contourcarpet\",\"colorbar\":{\"outlinewidth\":0,\"ticks\":\"\"}}],\"contour\":[{\"type\":\"contour\",\"colorbar\":{\"outlinewidth\":0,\"ticks\":\"\"},\"colorscale\":[[0.0,\"#0d0887\"],[0.1111111111111111,\"#46039f\"],[0.2222222222222222,\"#7201a8\"],[0.3333333333333333,\"#9c179e\"],[0.4444444444444444,\"#bd3786\"],[0.5555555555555556,\"#d8576b\"],[0.6666666666666666,\"#ed7953\"],[0.7777777777777778,\"#fb9f3a\"],[0.8888888888888888,\"#fdca26\"],[1.0,\"#f0f921\"]]}],\"surface\":[{\"type\":\"surface\",\"colorbar\":{\"outlinewidth\":0,\"ticks\":\"\"},\"colorscale\":[[0.0,\"#0d0887\"],[0.1111111111111111,\"#46039f\"],[0.2222222222222222,\"#7201a8\"],[0.3333333333333333,\"#9c179e\"],[0.4444444444444444,\"#bd3786\"],[0.5555555555555556,\"#d8576b\"],[0.6666666666666666,\"#ed7953\"],[0.7777777777777778,\"#fb9f3a\"],[0.8888888888888888,\"#fdca26\"],[1.0,\"#f0f921\"]]}],\"mesh3d\":[{\"type\":\"mesh3d\",\"colorbar\":{\"outlinewidth\":0,\"ticks\":\"\"}}],\"scatter\":[{\"fillpattern\":{\"fillmode\":\"overlay\",\"size\":10,\"solidity\":0.2},\"type\":\"scatter\"}],\"parcoords\":[{\"type\":\"parcoords\",\"line\":{\"colorbar\":{\"outlinewidth\":0,\"ticks\":\"\"}}}],\"scatterpolargl\":[{\"type\":\"scatterpolargl\",\"marker\":{\"colorbar\":{\"outlinewidth\":0,\"ticks\":\"\"}}}],\"bar\":[{\"error_x\":{\"color\":\"#2a3f5f\"},\"error_y\":{\"color\":\"#2a3f5f\"},\"marker\":{\"line\":{\"color\":\"#E5ECF6\",\"width\":0.5},\"pattern\":{\"fillmode\":\"overlay\",\"size\":10,\"solidity\":0.2}},\"type\":\"bar\"}],\"scattergeo\":[{\"type\":\"scattergeo\",\"marker\":{\"colorbar\":{\"outlinewidth\":0,\"ticks\":\"\"}}}],\"scatterpolar\":[{\"type\":\"scatterpolar\",\"marker\":{\"colorbar\":{\"outlinewidth\":0,\"ticks\":\"\"}}}],\"histogram\":[{\"marker\":{\"pattern\":{\"fillmode\":\"overlay\",\"size\":10,\"solidity\":0.2}},\"type\":\"histogram\"}],\"scattergl\":[{\"type\":\"scattergl\",\"marker\":{\"colorbar\":{\"outlinewidth\":0,\"ticks\":\"\"}}}],\"scatter3d\":[{\"type\":\"scatter3d\",\"line\":{\"colorbar\":{\"outlinewidth\":0,\"ticks\":\"\"}},\"marker\":{\"colorbar\":{\"outlinewidth\":0,\"ticks\":\"\"}}}],\"scattermapbox\":[{\"type\":\"scattermapbox\",\"marker\":{\"colorbar\":{\"outlinewidth\":0,\"ticks\":\"\"}}}],\"scatterternary\":[{\"type\":\"scatterternary\",\"marker\":{\"colorbar\":{\"outlinewidth\":0,\"ticks\":\"\"}}}],\"scattercarpet\":[{\"type\":\"scattercarpet\",\"marker\":{\"colorbar\":{\"outlinewidth\":0,\"ticks\":\"\"}}}],\"carpet\":[{\"aaxis\":{\"endlinecolor\":\"#2a3f5f\",\"gridcolor\":\"white\",\"linecolor\":\"white\",\"minorgridcolor\":\"white\",\"startlinecolor\":\"#2a3f5f\"},\"baxis\":{\"endlinecolor\":\"#2a3f5f\",\"gridcolor\":\"white\",\"linecolor\":\"white\",\"minorgridcolor\":\"white\",\"startlinecolor\":\"#2a3f5f\"},\"type\":\"carpet\"}],\"table\":[{\"cells\":{\"fill\":{\"color\":\"#EBF0F8\"},\"line\":{\"color\":\"white\"}},\"header\":{\"fill\":{\"color\":\"#C8D4E3\"},\"line\":{\"color\":\"white\"}},\"type\":\"table\"}],\"barpolar\":[{\"marker\":{\"line\":{\"color\":\"#E5ECF6\",\"width\":0.5},\"pattern\":{\"fillmode\":\"overlay\",\"size\":10,\"solidity\":0.2}},\"type\":\"barpolar\"}],\"pie\":[{\"automargin\":true,\"type\":\"pie\"}]},\"layout\":{\"autotypenumbers\":\"strict\",\"colorway\":[\"#636efa\",\"#EF553B\",\"#00cc96\",\"#ab63fa\",\"#FFA15A\",\"#19d3f3\",\"#FF6692\",\"#B6E880\",\"#FF97FF\",\"#FECB52\"],\"font\":{\"color\":\"#2a3f5f\"},\"hovermode\":\"closest\",\"hoverlabel\":{\"align\":\"left\"},\"paper_bgcolor\":\"white\",\"plot_bgcolor\":\"#E5ECF6\",\"polar\":{\"bgcolor\":\"#E5ECF6\",\"angularaxis\":{\"gridcolor\":\"white\",\"linecolor\":\"white\",\"ticks\":\"\"},\"radialaxis\":{\"gridcolor\":\"white\",\"linecolor\":\"white\",\"ticks\":\"\"}},\"ternary\":{\"bgcolor\":\"#E5ECF6\",\"aaxis\":{\"gridcolor\":\"white\",\"linecolor\":\"white\",\"ticks\":\"\"},\"baxis\":{\"gridcolor\":\"white\",\"linecolor\":\"white\",\"ticks\":\"\"},\"caxis\":{\"gridcolor\":\"white\",\"linecolor\":\"white\",\"ticks\":\"\"}},\"coloraxis\":{\"colorbar\":{\"outlinewidth\":0,\"ticks\":\"\"}},\"colorscale\":{\"sequential\":[[0.0,\"#0d0887\"],[0.1111111111111111,\"#46039f\"],[0.2222222222222222,\"#7201a8\"],[0.3333333333333333,\"#9c179e\"],[0.4444444444444444,\"#bd3786\"],[0.5555555555555556,\"#d8576b\"],[0.6666666666666666,\"#ed7953\"],[0.7777777777777778,\"#fb9f3a\"],[0.8888888888888888,\"#fdca26\"],[1.0,\"#f0f921\"]],\"sequentialminus\":[[0.0,\"#0d0887\"],[0.1111111111111111,\"#46039f\"],[0.2222222222222222,\"#7201a8\"],[0.3333333333333333,\"#9c179e\"],[0.4444444444444444,\"#bd3786\"],[0.5555555555555556,\"#d8576b\"],[0.6666666666666666,\"#ed7953\"],[0.7777777777777778,\"#fb9f3a\"],[0.8888888888888888,\"#fdca26\"],[1.0,\"#f0f921\"]],\"diverging\":[[0,\"#8e0152\"],[0.1,\"#c51b7d\"],[0.2,\"#de77ae\"],[0.3,\"#f1b6da\"],[0.4,\"#fde0ef\"],[0.5,\"#f7f7f7\"],[0.6,\"#e6f5d0\"],[0.7,\"#b8e186\"],[0.8,\"#7fbc41\"],[0.9,\"#4d9221\"],[1,\"#276419\"]]},\"xaxis\":{\"gridcolor\":\"white\",\"linecolor\":\"white\",\"ticks\":\"\",\"title\":{\"standoff\":15},\"zerolinecolor\":\"white\",\"automargin\":true,\"zerolinewidth\":2},\"yaxis\":{\"gridcolor\":\"white\",\"linecolor\":\"white\",\"ticks\":\"\",\"title\":{\"standoff\":15},\"zerolinecolor\":\"white\",\"automargin\":true,\"zerolinewidth\":2},\"scene\":{\"xaxis\":{\"backgroundcolor\":\"#E5ECF6\",\"gridcolor\":\"white\",\"linecolor\":\"white\",\"showbackground\":true,\"ticks\":\"\",\"zerolinecolor\":\"white\",\"gridwidth\":2},\"yaxis\":{\"backgroundcolor\":\"#E5ECF6\",\"gridcolor\":\"white\",\"linecolor\":\"white\",\"showbackground\":true,\"ticks\":\"\",\"zerolinecolor\":\"white\",\"gridwidth\":2},\"zaxis\":{\"backgroundcolor\":\"#E5ECF6\",\"gridcolor\":\"white\",\"linecolor\":\"white\",\"showbackground\":true,\"ticks\":\"\",\"zerolinecolor\":\"white\",\"gridwidth\":2}},\"shapedefaults\":{\"line\":{\"color\":\"#2a3f5f\"}},\"annotationdefaults\":{\"arrowcolor\":\"#2a3f5f\",\"arrowhead\":0,\"arrowwidth\":1},\"geo\":{\"bgcolor\":\"white\",\"landcolor\":\"#E5ECF6\",\"subunitcolor\":\"white\",\"showland\":true,\"showlakes\":true,\"lakecolor\":\"white\"},\"title\":{\"x\":0.05},\"mapbox\":{\"style\":\"light\"}}},\"xaxis\":{\"anchor\":\"y\",\"domain\":[0.0,1.0],\"title\":{\"text\":\"Aircraft.damage\"}},\"yaxis\":{\"anchor\":\"x\",\"domain\":[0.0,1.0],\"title\":{\"text\":\"Number of Injuries\"}},\"legend\":{\"title\":{\"text\":\"Injury Type\"},\"tracegroupgap\":0},\"title\":{\"text\":\"Injuries by Aircraft Damage Type\"},\"barmode\":\"relative\"},                        {\"responsive\": true}                    ).then(function(){\n",
       "                            \n",
       "var gd = document.getElementById('26ca2b73-b567-496e-836a-d8c39d278b1c');\n",
       "var x = new MutationObserver(function (mutations, observer) {{\n",
       "        var display = window.getComputedStyle(gd).display;\n",
       "        if (!display || display === 'none') {{\n",
       "            console.log([gd, 'removed!']);\n",
       "            Plotly.purge(gd);\n",
       "            observer.disconnect();\n",
       "        }}\n",
       "}});\n",
       "\n",
       "// Listen for the removal of the full notebook cells\n",
       "var notebookContainer = gd.closest('#notebook-container');\n",
       "if (notebookContainer) {{\n",
       "    x.observe(notebookContainer, {childList: true});\n",
       "}}\n",
       "\n",
       "// Listen for the clearing of the current output cell\n",
       "var outputEl = gd.closest('.output');\n",
       "if (outputEl) {{\n",
       "    x.observe(outputEl, {childList: true});\n",
       "}}\n",
       "\n",
       "                        })                };                });            </script>        </div>"
      ]
     },
     "metadata": {},
     "output_type": "display_data"
    }
   ],
   "source": [
    "#Group by aircraft damage and sum up the injuries\n",
    "damage_injuries = df_Accidents.groupby('Aircraft.damage').agg({\n",
    "    'Total.Fatal.Injuries' : 'sum',\n",
    "    'Total.Serious.Injuries' : 'sum',\n",
    "    'Total.Minor.Injuries' : 'sum', \n",
    "    'Total.Uninjured' : 'sum',\n",
    "}).reset_index()\n",
    "\n",
    "#Melt the dataframe to make it suitable for plotting\n",
    "damage_injuries_melt = damage_injuries.melt(id_vars='Aircraft.damage',\n",
    "                                            value_vars=['Total.Fatal.Injuries', 'Total.Serious.Injuries', 'Total.Minor.Injuries', 'Total.Uninjured'],\n",
    "                                            var_name='Injury Type',\n",
    "                                            value_name='Injury Count')\n",
    "\n",
    "# Plot a bar graph \n",
    "fig = px.bar(\n",
    "    damage_injuries_melt, \n",
    "    x='Aircraft.damage', \n",
    "    y='Injury Count', \n",
    "    color='Injury Type', \n",
    "    title='Injuries by Aircraft Damage Type',\n",
    "    labels={'Aircraft Damage': 'Aircraft Damage Level', 'Injury Count': 'Number of Injuries'},\n",
    "    \n",
    ")\n",
    "\n",
    "# Show the plot\n",
    "fig.show()"
   ]
  },
  {
   "cell_type": "markdown",
   "id": "7872768c-d185-4593-8430-eb8e35aa3be1",
   "metadata": {},
   "source": [
    "5.Visualize the Engine type. This will display the proportion of accidents involving different engines  "
   ]
  },
  {
   "cell_type": "code",
   "execution_count": 602,
   "id": "bdd057bd-e30f-4c8a-8925-a439608c7045",
   "metadata": {},
   "outputs": [
    {
     "data": {
      "application/vnd.plotly.v1+json": {
       "config": {
        "plotlyServerURL": "https://plot.ly"
       },
       "data": [
        {
         "domain": {
          "x": [
           0,
           1
          ],
          "y": [
           0,
           1
          ]
         },
         "hovertemplate": "Engine Type=%{label}<br>Count=%{value}<extra></extra>",
         "labels": [
          "Reciprocating",
          "Turbo Prop",
          "Turbo Shaft",
          "Turbo Fan",
          "Turbo Jet",
          "Unknown",
          "LR",
          "Electric"
         ],
         "legendgroup": "",
         "name": "",
         "showlegend": true,
         "type": "pie",
         "values": [
          3047,
          220,
          215,
          64,
          36,
          15,
          2,
          1
         ]
        }
       ],
       "layout": {
        "autosize": true,
        "legend": {
         "tracegroupgap": 0
        },
        "template": {
         "data": {
          "bar": [
           {
            "error_x": {
             "color": "#2a3f5f"
            },
            "error_y": {
             "color": "#2a3f5f"
            },
            "marker": {
             "line": {
              "color": "#E5ECF6",
              "width": 0.5
             },
             "pattern": {
              "fillmode": "overlay",
              "size": 10,
              "solidity": 0.2
             }
            },
            "type": "bar"
           }
          ],
          "barpolar": [
           {
            "marker": {
             "line": {
              "color": "#E5ECF6",
              "width": 0.5
             },
             "pattern": {
              "fillmode": "overlay",
              "size": 10,
              "solidity": 0.2
             }
            },
            "type": "barpolar"
           }
          ],
          "carpet": [
           {
            "aaxis": {
             "endlinecolor": "#2a3f5f",
             "gridcolor": "white",
             "linecolor": "white",
             "minorgridcolor": "white",
             "startlinecolor": "#2a3f5f"
            },
            "baxis": {
             "endlinecolor": "#2a3f5f",
             "gridcolor": "white",
             "linecolor": "white",
             "minorgridcolor": "white",
             "startlinecolor": "#2a3f5f"
            },
            "type": "carpet"
           }
          ],
          "choropleth": [
           {
            "colorbar": {
             "outlinewidth": 0,
             "ticks": ""
            },
            "type": "choropleth"
           }
          ],
          "contour": [
           {
            "colorbar": {
             "outlinewidth": 0,
             "ticks": ""
            },
            "colorscale": [
             [
              0,
              "#0d0887"
             ],
             [
              0.1111111111111111,
              "#46039f"
             ],
             [
              0.2222222222222222,
              "#7201a8"
             ],
             [
              0.3333333333333333,
              "#9c179e"
             ],
             [
              0.4444444444444444,
              "#bd3786"
             ],
             [
              0.5555555555555556,
              "#d8576b"
             ],
             [
              0.6666666666666666,
              "#ed7953"
             ],
             [
              0.7777777777777778,
              "#fb9f3a"
             ],
             [
              0.8888888888888888,
              "#fdca26"
             ],
             [
              1,
              "#f0f921"
             ]
            ],
            "type": "contour"
           }
          ],
          "contourcarpet": [
           {
            "colorbar": {
             "outlinewidth": 0,
             "ticks": ""
            },
            "type": "contourcarpet"
           }
          ],
          "heatmap": [
           {
            "colorbar": {
             "outlinewidth": 0,
             "ticks": ""
            },
            "colorscale": [
             [
              0,
              "#0d0887"
             ],
             [
              0.1111111111111111,
              "#46039f"
             ],
             [
              0.2222222222222222,
              "#7201a8"
             ],
             [
              0.3333333333333333,
              "#9c179e"
             ],
             [
              0.4444444444444444,
              "#bd3786"
             ],
             [
              0.5555555555555556,
              "#d8576b"
             ],
             [
              0.6666666666666666,
              "#ed7953"
             ],
             [
              0.7777777777777778,
              "#fb9f3a"
             ],
             [
              0.8888888888888888,
              "#fdca26"
             ],
             [
              1,
              "#f0f921"
             ]
            ],
            "type": "heatmap"
           }
          ],
          "heatmapgl": [
           {
            "colorbar": {
             "outlinewidth": 0,
             "ticks": ""
            },
            "colorscale": [
             [
              0,
              "#0d0887"
             ],
             [
              0.1111111111111111,
              "#46039f"
             ],
             [
              0.2222222222222222,
              "#7201a8"
             ],
             [
              0.3333333333333333,
              "#9c179e"
             ],
             [
              0.4444444444444444,
              "#bd3786"
             ],
             [
              0.5555555555555556,
              "#d8576b"
             ],
             [
              0.6666666666666666,
              "#ed7953"
             ],
             [
              0.7777777777777778,
              "#fb9f3a"
             ],
             [
              0.8888888888888888,
              "#fdca26"
             ],
             [
              1,
              "#f0f921"
             ]
            ],
            "type": "heatmapgl"
           }
          ],
          "histogram": [
           {
            "marker": {
             "pattern": {
              "fillmode": "overlay",
              "size": 10,
              "solidity": 0.2
             }
            },
            "type": "histogram"
           }
          ],
          "histogram2d": [
           {
            "colorbar": {
             "outlinewidth": 0,
             "ticks": ""
            },
            "colorscale": [
             [
              0,
              "#0d0887"
             ],
             [
              0.1111111111111111,
              "#46039f"
             ],
             [
              0.2222222222222222,
              "#7201a8"
             ],
             [
              0.3333333333333333,
              "#9c179e"
             ],
             [
              0.4444444444444444,
              "#bd3786"
             ],
             [
              0.5555555555555556,
              "#d8576b"
             ],
             [
              0.6666666666666666,
              "#ed7953"
             ],
             [
              0.7777777777777778,
              "#fb9f3a"
             ],
             [
              0.8888888888888888,
              "#fdca26"
             ],
             [
              1,
              "#f0f921"
             ]
            ],
            "type": "histogram2d"
           }
          ],
          "histogram2dcontour": [
           {
            "colorbar": {
             "outlinewidth": 0,
             "ticks": ""
            },
            "colorscale": [
             [
              0,
              "#0d0887"
             ],
             [
              0.1111111111111111,
              "#46039f"
             ],
             [
              0.2222222222222222,
              "#7201a8"
             ],
             [
              0.3333333333333333,
              "#9c179e"
             ],
             [
              0.4444444444444444,
              "#bd3786"
             ],
             [
              0.5555555555555556,
              "#d8576b"
             ],
             [
              0.6666666666666666,
              "#ed7953"
             ],
             [
              0.7777777777777778,
              "#fb9f3a"
             ],
             [
              0.8888888888888888,
              "#fdca26"
             ],
             [
              1,
              "#f0f921"
             ]
            ],
            "type": "histogram2dcontour"
           }
          ],
          "mesh3d": [
           {
            "colorbar": {
             "outlinewidth": 0,
             "ticks": ""
            },
            "type": "mesh3d"
           }
          ],
          "parcoords": [
           {
            "line": {
             "colorbar": {
              "outlinewidth": 0,
              "ticks": ""
             }
            },
            "type": "parcoords"
           }
          ],
          "pie": [
           {
            "automargin": true,
            "type": "pie"
           }
          ],
          "scatter": [
           {
            "fillpattern": {
             "fillmode": "overlay",
             "size": 10,
             "solidity": 0.2
            },
            "type": "scatter"
           }
          ],
          "scatter3d": [
           {
            "line": {
             "colorbar": {
              "outlinewidth": 0,
              "ticks": ""
             }
            },
            "marker": {
             "colorbar": {
              "outlinewidth": 0,
              "ticks": ""
             }
            },
            "type": "scatter3d"
           }
          ],
          "scattercarpet": [
           {
            "marker": {
             "colorbar": {
              "outlinewidth": 0,
              "ticks": ""
             }
            },
            "type": "scattercarpet"
           }
          ],
          "scattergeo": [
           {
            "marker": {
             "colorbar": {
              "outlinewidth": 0,
              "ticks": ""
             }
            },
            "type": "scattergeo"
           }
          ],
          "scattergl": [
           {
            "marker": {
             "colorbar": {
              "outlinewidth": 0,
              "ticks": ""
             }
            },
            "type": "scattergl"
           }
          ],
          "scattermapbox": [
           {
            "marker": {
             "colorbar": {
              "outlinewidth": 0,
              "ticks": ""
             }
            },
            "type": "scattermapbox"
           }
          ],
          "scatterpolar": [
           {
            "marker": {
             "colorbar": {
              "outlinewidth": 0,
              "ticks": ""
             }
            },
            "type": "scatterpolar"
           }
          ],
          "scatterpolargl": [
           {
            "marker": {
             "colorbar": {
              "outlinewidth": 0,
              "ticks": ""
             }
            },
            "type": "scatterpolargl"
           }
          ],
          "scatterternary": [
           {
            "marker": {
             "colorbar": {
              "outlinewidth": 0,
              "ticks": ""
             }
            },
            "type": "scatterternary"
           }
          ],
          "surface": [
           {
            "colorbar": {
             "outlinewidth": 0,
             "ticks": ""
            },
            "colorscale": [
             [
              0,
              "#0d0887"
             ],
             [
              0.1111111111111111,
              "#46039f"
             ],
             [
              0.2222222222222222,
              "#7201a8"
             ],
             [
              0.3333333333333333,
              "#9c179e"
             ],
             [
              0.4444444444444444,
              "#bd3786"
             ],
             [
              0.5555555555555556,
              "#d8576b"
             ],
             [
              0.6666666666666666,
              "#ed7953"
             ],
             [
              0.7777777777777778,
              "#fb9f3a"
             ],
             [
              0.8888888888888888,
              "#fdca26"
             ],
             [
              1,
              "#f0f921"
             ]
            ],
            "type": "surface"
           }
          ],
          "table": [
           {
            "cells": {
             "fill": {
              "color": "#EBF0F8"
             },
             "line": {
              "color": "white"
             }
            },
            "header": {
             "fill": {
              "color": "#C8D4E3"
             },
             "line": {
              "color": "white"
             }
            },
            "type": "table"
           }
          ]
         },
         "layout": {
          "annotationdefaults": {
           "arrowcolor": "#2a3f5f",
           "arrowhead": 0,
           "arrowwidth": 1
          },
          "autotypenumbers": "strict",
          "coloraxis": {
           "colorbar": {
            "outlinewidth": 0,
            "ticks": ""
           }
          },
          "colorscale": {
           "diverging": [
            [
             0,
             "#8e0152"
            ],
            [
             0.1,
             "#c51b7d"
            ],
            [
             0.2,
             "#de77ae"
            ],
            [
             0.3,
             "#f1b6da"
            ],
            [
             0.4,
             "#fde0ef"
            ],
            [
             0.5,
             "#f7f7f7"
            ],
            [
             0.6,
             "#e6f5d0"
            ],
            [
             0.7,
             "#b8e186"
            ],
            [
             0.8,
             "#7fbc41"
            ],
            [
             0.9,
             "#4d9221"
            ],
            [
             1,
             "#276419"
            ]
           ],
           "sequential": [
            [
             0,
             "#0d0887"
            ],
            [
             0.1111111111111111,
             "#46039f"
            ],
            [
             0.2222222222222222,
             "#7201a8"
            ],
            [
             0.3333333333333333,
             "#9c179e"
            ],
            [
             0.4444444444444444,
             "#bd3786"
            ],
            [
             0.5555555555555556,
             "#d8576b"
            ],
            [
             0.6666666666666666,
             "#ed7953"
            ],
            [
             0.7777777777777778,
             "#fb9f3a"
            ],
            [
             0.8888888888888888,
             "#fdca26"
            ],
            [
             1,
             "#f0f921"
            ]
           ],
           "sequentialminus": [
            [
             0,
             "#0d0887"
            ],
            [
             0.1111111111111111,
             "#46039f"
            ],
            [
             0.2222222222222222,
             "#7201a8"
            ],
            [
             0.3333333333333333,
             "#9c179e"
            ],
            [
             0.4444444444444444,
             "#bd3786"
            ],
            [
             0.5555555555555556,
             "#d8576b"
            ],
            [
             0.6666666666666666,
             "#ed7953"
            ],
            [
             0.7777777777777778,
             "#fb9f3a"
            ],
            [
             0.8888888888888888,
             "#fdca26"
            ],
            [
             1,
             "#f0f921"
            ]
           ]
          },
          "colorway": [
           "#636efa",
           "#EF553B",
           "#00cc96",
           "#ab63fa",
           "#FFA15A",
           "#19d3f3",
           "#FF6692",
           "#B6E880",
           "#FF97FF",
           "#FECB52"
          ],
          "font": {
           "color": "#2a3f5f"
          },
          "geo": {
           "bgcolor": "white",
           "lakecolor": "white",
           "landcolor": "#E5ECF6",
           "showlakes": true,
           "showland": true,
           "subunitcolor": "white"
          },
          "hoverlabel": {
           "align": "left"
          },
          "hovermode": "closest",
          "mapbox": {
           "style": "light"
          },
          "paper_bgcolor": "white",
          "plot_bgcolor": "#E5ECF6",
          "polar": {
           "angularaxis": {
            "gridcolor": "white",
            "linecolor": "white",
            "ticks": ""
           },
           "bgcolor": "#E5ECF6",
           "radialaxis": {
            "gridcolor": "white",
            "linecolor": "white",
            "ticks": ""
           }
          },
          "scene": {
           "xaxis": {
            "backgroundcolor": "#E5ECF6",
            "gridcolor": "white",
            "gridwidth": 2,
            "linecolor": "white",
            "showbackground": true,
            "ticks": "",
            "zerolinecolor": "white"
           },
           "yaxis": {
            "backgroundcolor": "#E5ECF6",
            "gridcolor": "white",
            "gridwidth": 2,
            "linecolor": "white",
            "showbackground": true,
            "ticks": "",
            "zerolinecolor": "white"
           },
           "zaxis": {
            "backgroundcolor": "#E5ECF6",
            "gridcolor": "white",
            "gridwidth": 2,
            "linecolor": "white",
            "showbackground": true,
            "ticks": "",
            "zerolinecolor": "white"
           }
          },
          "shapedefaults": {
           "line": {
            "color": "#2a3f5f"
           }
          },
          "ternary": {
           "aaxis": {
            "gridcolor": "white",
            "linecolor": "white",
            "ticks": ""
           },
           "baxis": {
            "gridcolor": "white",
            "linecolor": "white",
            "ticks": ""
           },
           "bgcolor": "#E5ECF6",
           "caxis": {
            "gridcolor": "white",
            "linecolor": "white",
            "ticks": ""
           }
          },
          "title": {
           "x": 0.05
          },
          "xaxis": {
           "automargin": true,
           "gridcolor": "white",
           "linecolor": "white",
           "ticks": "",
           "title": {
            "standoff": 15
           },
           "zerolinecolor": "white",
           "zerolinewidth": 2
          },
          "yaxis": {
           "automargin": true,
           "gridcolor": "white",
           "linecolor": "white",
           "ticks": "",
           "title": {
            "standoff": 15
           },
           "zerolinecolor": "white",
           "zerolinewidth": 2
          }
         }
        },
        "title": {
         "text": "Distribution of Engine Types Involved in Accidents"
        }
       }
      },
      "image/png": "[encoded data removed]",
      "text/html": [
       "<div>                            <div id=\"d7124106-b663-4b82-8d6c-396b442d9a91\" class=\"plotly-graph-div\" style=\"height:525px; width:100%;\"></div>            <script type=\"text/javascript\">                require([\"plotly\"], function(Plotly) {                    window.PLOTLYENV=window.PLOTLYENV || {};                                    if (document.getElementById(\"d7124106-b663-4b82-8d6c-396b442d9a91\")) {                    Plotly.newPlot(                        \"d7124106-b663-4b82-8d6c-396b442d9a91\",                        [{\"domain\":{\"x\":[0.0,1.0],\"y\":[0.0,1.0]},\"hovertemplate\":\"Engine Type=%{label}<br>Count=%{value}<extra></extra>\",\"labels\":[\"Reciprocating\",\"Turbo Prop\",\"Turbo Shaft\",\"Turbo Fan\",\"Turbo Jet\",\"Unknown\",\"LR\",\"Electric\"],\"legendgroup\":\"\",\"name\":\"\",\"showlegend\":true,\"values\":[3047,220,215,64,36,15,2,1],\"type\":\"pie\"}],                        {\"template\":{\"data\":{\"histogram2dcontour\":[{\"type\":\"histogram2dcontour\",\"colorbar\":{\"outlinewidth\":0,\"ticks\":\"\"},\"colorscale\":[[0.0,\"#0d0887\"],[0.1111111111111111,\"#46039f\"],[0.2222222222222222,\"#7201a8\"],[0.3333333333333333,\"#9c179e\"],[0.4444444444444444,\"#bd3786\"],[0.5555555555555556,\"#d8576b\"],[0.6666666666666666,\"#ed7953\"],[0.7777777777777778,\"#fb9f3a\"],[0.8888888888888888,\"#fdca26\"],[1.0,\"#f0f921\"]]}],\"choropleth\":[{\"type\":\"choropleth\",\"colorbar\":{\"outlinewidth\":0,\"ticks\":\"\"}}],\"histogram2d\":[{\"type\":\"histogram2d\",\"colorbar\":{\"outlinewidth\":0,\"ticks\":\"\"},\"colorscale\":[[0.0,\"#0d0887\"],[0.1111111111111111,\"#46039f\"],[0.2222222222222222,\"#7201a8\"],[0.3333333333333333,\"#9c179e\"],[0.4444444444444444,\"#bd3786\"],[0.5555555555555556,\"#d8576b\"],[0.6666666666666666,\"#ed7953\"],[0.7777777777777778,\"#fb9f3a\"],[0.8888888888888888,\"#fdca26\"],[1.0,\"#f0f921\"]]}],\"heatmap\":[{\"type\":\"heatmap\",\"colorbar\":{\"outlinewidth\":0,\"ticks\":\"\"},\"colorscale\":[[0.0,\"#0d0887\"],[0.1111111111111111,\"#46039f\"],[0.2222222222222222,\"#7201a8\"],[0.3333333333333333,\"#9c179e\"],[0.4444444444444444,\"#bd3786\"],[0.5555555555555556,\"#d8576b\"],[0.6666666666666666,\"#ed7953\"],[0.7777777777777778,\"#fb9f3a\"],[0.8888888888888888,\"#fdca26\"],[1.0,\"#f0f921\"]]}],\"heatmapgl\":[{\"type\":\"heatmapgl\",\"colorbar\":{\"outlinewidth\":0,\"ticks\":\"\"},\"colorscale\":[[0.0,\"#0d0887\"],[0.1111111111111111,\"#46039f\"],[0.2222222222222222,\"#7201a8\"],[0.3333333333333333,\"#9c179e\"],[0.4444444444444444,\"#bd3786\"],[0.5555555555555556,\"#d8576b\"],[0.6666666666666666,\"#ed7953\"],[0.7777777777777778,\"#fb9f3a\"],[0.8888888888888888,\"#fdca26\"],[1.0,\"#f0f921\"]]}],\"contourcarpet\":[{\"type\":\"contourcarpet\",\"colorbar\":{\"outlinewidth\":0,\"ticks\":\"\"}}],\"contour\":[{\"type\":\"contour\",\"colorbar\":{\"outlinewidth\":0,\"ticks\":\"\"},\"colorscale\":[[0.0,\"#0d0887\"],[0.1111111111111111,\"#46039f\"],[0.2222222222222222,\"#7201a8\"],[0.3333333333333333,\"#9c179e\"],[0.4444444444444444,\"#bd3786\"],[0.5555555555555556,\"#d8576b\"],[0.6666666666666666,\"#ed7953\"],[0.7777777777777778,\"#fb9f3a\"],[0.8888888888888888,\"#fdca26\"],[1.0,\"#f0f921\"]]}],\"surface\":[{\"type\":\"surface\",\"colorbar\":{\"outlinewidth\":0,\"ticks\":\"\"},\"colorscale\":[[0.0,\"#0d0887\"],[0.1111111111111111,\"#46039f\"],[0.2222222222222222,\"#7201a8\"],[0.3333333333333333,\"#9c179e\"],[0.4444444444444444,\"#bd3786\"],[0.5555555555555556,\"#d8576b\"],[0.6666666666666666,\"#ed7953\"],[0.7777777777777778,\"#fb9f3a\"],[0.8888888888888888,\"#fdca26\"],[1.0,\"#f0f921\"]]}],\"mesh3d\":[{\"type\":\"mesh3d\",\"colorbar\":{\"outlinewidth\":0,\"ticks\":\"\"}}],\"scatter\":[{\"fillpattern\":{\"fillmode\":\"overlay\",\"size\":10,\"solidity\":0.2},\"type\":\"scatter\"}],\"parcoords\":[{\"type\":\"parcoords\",\"line\":{\"colorbar\":{\"outlinewidth\":0,\"ticks\":\"\"}}}],\"scatterpolargl\":[{\"type\":\"scatterpolargl\",\"marker\":{\"colorbar\":{\"outlinewidth\":0,\"ticks\":\"\"}}}],\"bar\":[{\"error_x\":{\"color\":\"#2a3f5f\"},\"error_y\":{\"color\":\"#2a3f5f\"},\"marker\":{\"line\":{\"color\":\"#E5ECF6\",\"width\":0.5},\"pattern\":{\"fillmode\":\"overlay\",\"size\":10,\"solidity\":0.2}},\"type\":\"bar\"}],\"scattergeo\":[{\"type\":\"scattergeo\",\"marker\":{\"colorbar\":{\"outlinewidth\":0,\"ticks\":\"\"}}}],\"scatterpolar\":[{\"type\":\"scatterpolar\",\"marker\":{\"colorbar\":{\"outlinewidth\":0,\"ticks\":\"\"}}}],\"histogram\":[{\"marker\":{\"pattern\":{\"fillmode\":\"overlay\",\"size\":10,\"solidity\":0.2}},\"type\":\"histogram\"}],\"scattergl\":[{\"type\":\"scattergl\",\"marker\":{\"colorbar\":{\"outlinewidth\":0,\"ticks\":\"\"}}}],\"scatter3d\":[{\"type\":\"scatter3d\",\"line\":{\"colorbar\":{\"outlinewidth\":0,\"ticks\":\"\"}},\"marker\":{\"colorbar\":{\"outlinewidth\":0,\"ticks\":\"\"}}}],\"scattermapbox\":[{\"type\":\"scattermapbox\",\"marker\":{\"colorbar\":{\"outlinewidth\":0,\"ticks\":\"\"}}}],\"scatterternary\":[{\"type\":\"scatterternary\",\"marker\":{\"colorbar\":{\"outlinewidth\":0,\"ticks\":\"\"}}}],\"scattercarpet\":[{\"type\":\"scattercarpet\",\"marker\":{\"colorbar\":{\"outlinewidth\":0,\"ticks\":\"\"}}}],\"carpet\":[{\"aaxis\":{\"endlinecolor\":\"#2a3f5f\",\"gridcolor\":\"white\",\"linecolor\":\"white\",\"minorgridcolor\":\"white\",\"startlinecolor\":\"#2a3f5f\"},\"baxis\":{\"endlinecolor\":\"#2a3f5f\",\"gridcolor\":\"white\",\"linecolor\":\"white\",\"minorgridcolor\":\"white\",\"startlinecolor\":\"#2a3f5f\"},\"type\":\"carpet\"}],\"table\":[{\"cells\":{\"fill\":{\"color\":\"#EBF0F8\"},\"line\":{\"color\":\"white\"}},\"header\":{\"fill\":{\"color\":\"#C8D4E3\"},\"line\":{\"color\":\"white\"}},\"type\":\"table\"}],\"barpolar\":[{\"marker\":{\"line\":{\"color\":\"#E5ECF6\",\"width\":0.5},\"pattern\":{\"fillmode\":\"overlay\",\"size\":10,\"solidity\":0.2}},\"type\":\"barpolar\"}],\"pie\":[{\"automargin\":true,\"type\":\"pie\"}]},\"layout\":{\"autotypenumbers\":\"strict\",\"colorway\":[\"#636efa\",\"#EF553B\",\"#00cc96\",\"#ab63fa\",\"#FFA15A\",\"#19d3f3\",\"#FF6692\",\"#B6E880\",\"#FF97FF\",\"#FECB52\"],\"font\":{\"color\":\"#2a3f5f\"},\"hovermode\":\"closest\",\"hoverlabel\":{\"align\":\"left\"},\"paper_bgcolor\":\"white\",\"plot_bgcolor\":\"#E5ECF6\",\"polar\":{\"bgcolor\":\"#E5ECF6\",\"angularaxis\":{\"gridcolor\":\"white\",\"linecolor\":\"white\",\"ticks\":\"\"},\"radialaxis\":{\"gridcolor\":\"white\",\"linecolor\":\"white\",\"ticks\":\"\"}},\"ternary\":{\"bgcolor\":\"#E5ECF6\",\"aaxis\":{\"gridcolor\":\"white\",\"linecolor\":\"white\",\"ticks\":\"\"},\"baxis\":{\"gridcolor\":\"white\",\"linecolor\":\"white\",\"ticks\":\"\"},\"caxis\":{\"gridcolor\":\"white\",\"linecolor\":\"white\",\"ticks\":\"\"}},\"coloraxis\":{\"colorbar\":{\"outlinewidth\":0,\"ticks\":\"\"}},\"colorscale\":{\"sequential\":[[0.0,\"#0d0887\"],[0.1111111111111111,\"#46039f\"],[0.2222222222222222,\"#7201a8\"],[0.3333333333333333,\"#9c179e\"],[0.4444444444444444,\"#bd3786\"],[0.5555555555555556,\"#d8576b\"],[0.6666666666666666,\"#ed7953\"],[0.7777777777777778,\"#fb9f3a\"],[0.8888888888888888,\"#fdca26\"],[1.0,\"#f0f921\"]],\"sequentialminus\":[[0.0,\"#0d0887\"],[0.1111111111111111,\"#46039f\"],[0.2222222222222222,\"#7201a8\"],[0.3333333333333333,\"#9c179e\"],[0.4444444444444444,\"#bd3786\"],[0.5555555555555556,\"#d8576b\"],[0.6666666666666666,\"#ed7953\"],[0.7777777777777778,\"#fb9f3a\"],[0.8888888888888888,\"#fdca26\"],[1.0,\"#f0f921\"]],\"diverging\":[[0,\"#8e0152\"],[0.1,\"#c51b7d\"],[0.2,\"#de77ae\"],[0.3,\"#f1b6da\"],[0.4,\"#fde0ef\"],[0.5,\"#f7f7f7\"],[0.6,\"#e6f5d0\"],[0.7,\"#b8e186\"],[0.8,\"#7fbc41\"],[0.9,\"#4d9221\"],[1,\"#276419\"]]},\"xaxis\":{\"gridcolor\":\"white\",\"linecolor\":\"white\",\"ticks\":\"\",\"title\":{\"standoff\":15},\"zerolinecolor\":\"white\",\"automargin\":true,\"zerolinewidth\":2},\"yaxis\":{\"gridcolor\":\"white\",\"linecolor\":\"white\",\"ticks\":\"\",\"title\":{\"standoff\":15},\"zerolinecolor\":\"white\",\"automargin\":true,\"zerolinewidth\":2},\"scene\":{\"xaxis\":{\"backgroundcolor\":\"#E5ECF6\",\"gridcolor\":\"white\",\"linecolor\":\"white\",\"showbackground\":true,\"ticks\":\"\",\"zerolinecolor\":\"white\",\"gridwidth\":2},\"yaxis\":{\"backgroundcolor\":\"#E5ECF6\",\"gridcolor\":\"white\",\"linecolor\":\"white\",\"showbackground\":true,\"ticks\":\"\",\"zerolinecolor\":\"white\",\"gridwidth\":2},\"zaxis\":{\"backgroundcolor\":\"#E5ECF6\",\"gridcolor\":\"white\",\"linecolor\":\"white\",\"showbackground\":true,\"ticks\":\"\",\"zerolinecolor\":\"white\",\"gridwidth\":2}},\"shapedefaults\":{\"line\":{\"color\":\"#2a3f5f\"}},\"annotationdefaults\":{\"arrowcolor\":\"#2a3f5f\",\"arrowhead\":0,\"arrowwidth\":1},\"geo\":{\"bgcolor\":\"white\",\"landcolor\":\"#E5ECF6\",\"subunitcolor\":\"white\",\"showland\":true,\"showlakes\":true,\"lakecolor\":\"white\"},\"title\":{\"x\":0.05},\"mapbox\":{\"style\":\"light\"}}},\"legend\":{\"tracegroupgap\":0},\"title\":{\"text\":\"Distribution of Engine Types Involved in Accidents\"}},                        {\"responsive\": true}                    ).then(function(){\n",
       "                            \n",
       "var gd = document.getElementById('d7124106-b663-4b82-8d6c-396b442d9a91');\n",
       "var x = new MutationObserver(function (mutations, observer) {{\n",
       "        var display = window.getComputedStyle(gd).display;\n",
       "        if (!display || display === 'none') {{\n",
       "            console.log([gd, 'removed!']);\n",
       "            Plotly.purge(gd);\n",
       "            observer.disconnect();\n",
       "        }}\n",
       "}});\n",
       "\n",
       "// Listen for the removal of the full notebook cells\n",
       "var notebookContainer = gd.closest('#notebook-container');\n",
       "if (notebookContainer) {{\n",
       "    x.observe(notebookContainer, {childList: true});\n",
       "}}\n",
       "\n",
       "// Listen for the clearing of the current output cell\n",
       "var outputEl = gd.closest('.output');\n",
       "if (outputEl) {{\n",
       "    x.observe(outputEl, {childList: true});\n",
       "}}\n",
       "\n",
       "                        })                };                });            </script>        </div>"
      ]
     },
     "metadata": {},
     "output_type": "display_data"
    }
   ],
   "source": [
    "# Count the number of occurrences for each engine type\n",
    "engine_type_counts = df_Accidents['Engine.Type'].value_counts().reset_index()\n",
    "engine_type_counts.columns = ['Engine Type', 'Count']\n",
    "\n",
    "# Pie chart of engine type distribution\n",
    "fig = px.pie(engine_type_counts, \n",
    "             names='Engine Type', \n",
    "             values='Count', \n",
    "             title='Distribution of Engine Types Involved in Accidents')\n",
    "\n",
    "# Show the plot\n",
    "fig.show()"
   ]
  },
  {
   "cell_type": "markdown",
   "id": "506d8455-4b30-4009-9996-70bc01eaf609",
   "metadata": {},
   "source": [
    "6.Visualize the number of engines. "
   ]
  },
  {
   "cell_type": "code",
   "execution_count": 605,
   "id": "e139aed9-46aa-42b7-b250-241b9c3588eb",
   "metadata": {},
   "outputs": [
    {
     "data": {
      "image/png": "[encoded data removed]",
      "text/plain": [
       "<Figure size 1000x600 with 1 Axes>"
      ]
     },
     "metadata": {},
     "output_type": "display_data"
    }
   ],
   "source": [
    "\n",
    "# Group the data by the number of engines\n",
    "engine_counts = df_Accidents['Number.of.Engines'].value_counts().reset_index()\n",
    "engine_counts.columns = ['Number of Engines', 'Number of Accidents']\n",
    "\n",
    "# plot the graph\n",
    "plt.figure(figsize=(10, 6))\n",
    "sns.barplot(x='Number of Engines', y='Number of Accidents', data=engine_counts, palette='viridis', log=True)\n",
    "plt.title('Number of Accidents by Number of Engines')\n",
    "plt.xlabel('Number of Engines')\n",
    "plt.ylabel('Number of Accidents')\n",
    "plt.grid(axis='y', linestyle='--', alpha=0.7)\n",
    "plt.show()\n",
    "\n",
    "\n"
   ]
  },
  {
   "cell_type": "code",
   "execution_count": null,
   "id": "b1a1c654-34bf-4aa0-83a9-a75fe1cf25cb",
   "metadata": {},
   "outputs": [],
   "source": []
  }
 ],
 "metadata": {
  "kernelspec": {
   "display_name": "Python 3 (ipykernel)",
   "language": "python",
   "name": "python3"
  },
  "language_info": {
   "codemirror_mode": {
    "name": "ipython",
    "version": 3
   },
   "file_extension": ".py",
   "mimetype": "text/x-python",
   "name": "python",
   "nbconvert_exporter": "python",
   "pygments_lexer": "ipython3",
   "version": "3.11.7"
  }
 },
 "nbformat": 4,
 "nbformat_minor": 5
}
